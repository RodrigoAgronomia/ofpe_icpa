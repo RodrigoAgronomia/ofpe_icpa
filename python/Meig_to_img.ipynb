{
 "cells": [
  {
   "cell_type": "code",
   "execution_count": 15,
   "metadata": {},
   "outputs": [],
   "source": [
    "import cv2\n",
    "import numpy as np\n",
    "import matplotlib.pyplot as plt"
   ]
  },
  {
   "cell_type": "code",
   "execution_count": 2,
   "metadata": {},
   "outputs": [],
   "source": [
    "meig = np.load('../data/Trial_meig.npy')"
   ]
  },
  {
   "cell_type": "code",
   "execution_count": 11,
   "metadata": {},
   "outputs": [
    {
     "data": {
      "text/plain": [
       "True"
      ]
     },
     "execution_count": 11,
     "metadata": {},
     "output_type": "execute_result"
    }
   ],
   "source": [
    "mnp = np.moveaxis(meig, -1, 0)\n",
    "mnp = mnp.reshape(10,10,300,200)\n",
    "mnp = np.concatenate(mnp, 1)\n",
    "mnp = np.concatenate(mnp, 1)\n",
    "mnp = np.rot90(mnp)\n",
    "mnp = np.clip(mnp, np.quantile(mnp, 0.01),  np.quantile(mnp, 0.99))\n",
    "mnp -= mnp.min()\n",
    "mnp /= mnp.max()/255\n",
    "mnp = mnp.astype('uint8')\n",
    "cv2.imwrite('../figures/meig.png', mnp)"
   ]
  },
  {
   "cell_type": "code",
   "execution_count": 12,
   "metadata": {},
   "outputs": [],
   "source": [
    "rst_sim = np.load('../data/Trial_sim.npy')\n",
    "b0_true = rst_sim[:100]\n",
    "b1_true = rst_sim[100:]"
   ]
  },
  {
   "cell_type": "code",
   "execution_count": 13,
   "metadata": {},
   "outputs": [
    {
     "data": {
      "text/plain": [
       "True"
      ]
     },
     "execution_count": 13,
     "metadata": {},
     "output_type": "execute_result"
    }
   ],
   "source": [
    "mnp = np.moveaxis(b0_true, 1, 2)\n",
    "mnp = mnp.reshape(10,10,300,200)\n",
    "mnp = np.concatenate(mnp, 1)\n",
    "mnp = np.concatenate(mnp, 1)\n",
    "mnp = np.rot90(mnp)\n",
    "mnp = np.clip(mnp, np.quantile(mnp, 0.01),  np.quantile(mnp, 0.99))\n",
    "mnp -= mnp.min()\n",
    "mnp /= mnp.max()/255\n",
    "mnp = mnp.astype('uint8')\n",
    "cv2.imwrite('../figures/b0_true.png', mnp)"
   ]
  },
  {
   "cell_type": "code",
   "execution_count": 14,
   "metadata": {},
   "outputs": [
    {
     "data": {
      "text/plain": [
       "True"
      ]
     },
     "execution_count": 14,
     "metadata": {},
     "output_type": "execute_result"
    }
   ],
   "source": [
    "mnp = np.moveaxis(b1_true, 1, 2)\n",
    "mnp = mnp.reshape(10,10,300,200)\n",
    "mnp = np.concatenate(mnp, 1)\n",
    "mnp = np.concatenate(mnp, 1)\n",
    "mnp = np.rot90(mnp)\n",
    "mnp = np.clip(mnp, np.quantile(mnp, 0.01),  np.quantile(mnp, 0.99))\n",
    "mnp -= mnp.min()\n",
    "mnp /= mnp.max()/254\n",
    "mnp = mnp.astype('uint8')\n",
    "cv2.imwrite('../figures/b1_true.png', mnp)"
   ]
  },
  {
   "cell_type": "code",
   "execution_count": null,
   "metadata": {},
   "outputs": [],
   "source": []
  }
 ],
 "metadata": {
  "kernelspec": {
   "display_name": "Python [conda env:GEOANN]",
   "language": "python",
   "name": "conda-env-GEOANN-py"
  },
  "language_info": {
   "codemirror_mode": {
    "name": "ipython",
    "version": 3
   },
   "file_extension": ".py",
   "mimetype": "text/x-python",
   "name": "python",
   "nbconvert_exporter": "python",
   "pygments_lexer": "ipython3",
   "version": "3.7.8"
  }
 },
 "nbformat": 4,
 "nbformat_minor": 4
}
