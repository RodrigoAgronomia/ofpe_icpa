{
 "cells": [
  {
   "cell_type": "code",
   "execution_count": 13,
   "metadata": {},
   "outputs": [],
   "source": [
    "import torch\n",
    "import numpy as np\n",
    "import torch.nn as nn\n",
    "import torch.nn.functional as F\n",
    "import matplotlib.pyplot as plt\n",
    "from tqdm.notebook import tqdm, trange\n",
    "device = torch.device('cuda')"
   ]
  },
  {
   "cell_type": "code",
   "execution_count": 14,
   "metadata": {},
   "outputs": [],
   "source": [
    "from sklearn.preprocessing import StandardScaler\n",
    "from mgwr.kernels import Kernel"
   ]
  },
  {
   "cell_type": "code",
   "execution_count": 15,
   "metadata": {},
   "outputs": [],
   "source": [
    "bw = 200\n",
    "cotton_price = 0.4\n",
    "nitrogen_cost = 1.0\n",
    "nitrogen_ratio = nitrogen_cost/cotton_price\n",
    "sq_rate = 100\n",
    "sq_yield = 4500\n",
    "rst_b2g = -0.02"
   ]
  },
  {
   "cell_type": "code",
   "execution_count": 17,
   "metadata": {},
   "outputs": [],
   "source": [
    "trial = np.load('../data/Trial_Design.npy')\n",
    "trial_names = np.load('../data/Trial_Design_names.npy', allow_pickle=True)\n",
    "trial_coords = np.load('../data/Trial_Design_coords.npy')\n",
    "trial_coords_idx = np.int0(np.floor(trial_coords/3))\n",
    "n = trial_coords.shape[0]\n",
    "\n",
    "rst_sim = np.load('../data/Trial_sim.npy')"
   ]
  },
  {
   "cell_type": "code",
   "execution_count": 5,
   "metadata": {},
   "outputs": [],
   "source": [
    "i = np.abs(trial_coords - [450, 300]).sum(1).argmin()\n",
    "wi = Kernel(i, trial_coords, bw, fixed=False, function='gaussian')\n",
    "wi = wi.kernel.reshape(rst_sim[0].shape)\n",
    "wic = wi[((wi > 0.008).sum(1) > 0)][:, ((wi > 0.008).sum(0) > 0)]\n",
    "\n",
    "W = torch.tensor(wic, device = device)[None,None]\n",
    "W = W/W.sum()\n",
    "W = W.repeat(3,1,1,1)"
   ]
  },
  {
   "cell_type": "code",
   "execution_count": 6,
   "metadata": {},
   "outputs": [],
   "source": [
    "b0_true = rst_sim[:100]\n",
    "b1_true = rst_sim[100:]\n",
    "\n",
    "opt_pct = 150\n",
    "rst_optr = opt_pct/100 * sq_rate * (1 + 0.25 * b1_true) \n",
    "rst_optr = np.clip(rst_optr, 0, 200)\n",
    "\n",
    "rst_b1 = -2 * rst_b2g * rst_optr + nitrogen_ratio\n",
    "rst_b2 = rst_b2g * np.ones_like(rst_b1)\n",
    "rst_b0 = sq_yield * (1 + 0.05 * b0_true)\n",
    "rst_b0 = rst_b0 - (rst_b1 * rst_optr + rst_b2g * rst_optr **2) \n",
    "rst_coeff = np.stack([rst_b0, rst_b1, rst_b2], 1)\n",
    "\n",
    "trial_idx = [i for i, n in enumerate(trial_names) if not 'rep' in n]#and '010' in n]"
   ]
  },
  {
   "cell_type": "code",
   "execution_count": 7,
   "metadata": {},
   "outputs": [],
   "source": [
    "# X_testr = torch.linspace(0, 200, 201, device = device)\n",
    "# X_cost = X_testr[:,None,None] * nitrogen_cost\n",
    "# p = torch.arange(3, device = device)[None,:,None,None].repeat(1,1,*rst_b1.shape[1:])\n",
    "# X_test = X_testr[:,None,None,None] ** p\n",
    "# cm = torch.tensor(rst_coeff, device = device)\n",
    "\n",
    "# best_idx = []\n",
    "# for i in range(len(cm)):\n",
    "#     y_test = (X_test * cm[i]).sum(1)\n",
    "#     y_net_pred = y_test * cotton_price - X_cost\n",
    "#     best_idx.append(y_net_pred.argmax(0))\n",
    "    \n",
    "# best_idx = torch.stack(best_idx)\n",
    "# rst_optr_pred = X_testr[best_idx].cpu().numpy()"
   ]
  },
  {
   "cell_type": "code",
   "execution_count": 8,
   "metadata": {},
   "outputs": [],
   "source": [
    "# plt.plot(y_test[:,50,50].cpu().numpy())"
   ]
  },
  {
   "cell_type": "code",
   "execution_count": 9,
   "metadata": {},
   "outputs": [],
   "source": [
    "# plt.hist(rst_optr.flatten())\n",
    "# print(rst_optr.shape)"
   ]
  },
  {
   "cell_type": "code",
   "execution_count": 10,
   "metadata": {},
   "outputs": [],
   "source": [
    "# plt.hist(rst_optr_pred.flatten())\n",
    "# print(rst_optr_pred.shape)"
   ]
  },
  {
   "cell_type": "code",
   "execution_count": 11,
   "metadata": {},
   "outputs": [
    {
     "data": {
      "text/plain": [
       "'size03_p100'"
      ]
     },
     "execution_count": 11,
     "metadata": {},
     "output_type": "execute_result"
    }
   ],
   "source": [
    "trial_names[5]"
   ]
  },
  {
   "cell_type": "code",
   "execution_count": 12,
   "metadata": {},
   "outputs": [
    {
     "data": {
      "application/vnd.jupyter.widget-view+json": {
       "model_id": "37e1539eeacc45a1b9599d9a7439b267",
       "version_major": 2,
       "version_minor": 0
      },
      "text/plain": [
       "HBox(children=(FloatProgress(value=0.0, max=30.0), HTML(value='')))"
      ]
     },
     "metadata": {},
     "output_type": "display_data"
    },
    {
     "data": {
      "application/vnd.jupyter.widget-view+json": {
       "model_id": "1f8a774f6fbc4e0eb0071c8eee5bd85b",
       "version_major": 2,
       "version_minor": 0
      },
      "text/plain": [
       "HBox(children=(FloatProgress(value=0.0, description='size03_p001', style=ProgressStyle(description_width='init…"
      ]
     },
     "metadata": {},
     "output_type": "display_data"
    },
    {
     "name": "stdout",
     "output_type": "stream",
     "text": [
      "\n"
     ]
    },
    {
     "data": {
      "application/vnd.jupyter.widget-view+json": {
       "model_id": "21545a97b40947d0b64c0a54b6ff88a6",
       "version_major": 2,
       "version_minor": 0
      },
      "text/plain": [
       "HBox(children=(FloatProgress(value=0.0, description='size03_p005', style=ProgressStyle(description_width='init…"
      ]
     },
     "metadata": {},
     "output_type": "display_data"
    },
    {
     "name": "stdout",
     "output_type": "stream",
     "text": [
      "\n"
     ]
    },
    {
     "data": {
      "application/vnd.jupyter.widget-view+json": {
       "model_id": "41b3b2babbb643f4adc6892ab1497fdd",
       "version_major": 2,
       "version_minor": 0
      },
      "text/plain": [
       "HBox(children=(FloatProgress(value=0.0, description='size03_p010', style=ProgressStyle(description_width='init…"
      ]
     },
     "metadata": {},
     "output_type": "display_data"
    },
    {
     "name": "stdout",
     "output_type": "stream",
     "text": [
      "\n"
     ]
    },
    {
     "data": {
      "application/vnd.jupyter.widget-view+json": {
       "model_id": "42deb22cefd1437fa30020fa2a86fb43",
       "version_major": 2,
       "version_minor": 0
      },
      "text/plain": [
       "HBox(children=(FloatProgress(value=0.0, description='size03_p050', style=ProgressStyle(description_width='init…"
      ]
     },
     "metadata": {},
     "output_type": "display_data"
    },
    {
     "name": "stdout",
     "output_type": "stream",
     "text": [
      "\n"
     ]
    },
    {
     "data": {
      "application/vnd.jupyter.widget-view+json": {
       "model_id": "9fe377e29bc94264aa7a793e119f7fdb",
       "version_major": 2,
       "version_minor": 0
      },
      "text/plain": [
       "HBox(children=(FloatProgress(value=0.0, description='size03_p100', style=ProgressStyle(description_width='init…"
      ]
     },
     "metadata": {},
     "output_type": "display_data"
    },
    {
     "name": "stdout",
     "output_type": "stream",
     "text": [
      "\n"
     ]
    },
    {
     "data": {
      "application/vnd.jupyter.widget-view+json": {
       "model_id": "a90813bf05734ec0b9093da83cd7f152",
       "version_major": 2,
       "version_minor": 0
      },
      "text/plain": [
       "HBox(children=(FloatProgress(value=0.0, description='size06_p001', style=ProgressStyle(description_width='init…"
      ]
     },
     "metadata": {},
     "output_type": "display_data"
    },
    {
     "name": "stdout",
     "output_type": "stream",
     "text": [
      "\n"
     ]
    },
    {
     "data": {
      "application/vnd.jupyter.widget-view+json": {
       "model_id": "9f86ae17251f47839de34c116e1c68d5",
       "version_major": 2,
       "version_minor": 0
      },
      "text/plain": [
       "HBox(children=(FloatProgress(value=0.0, description='size06_p005', style=ProgressStyle(description_width='init…"
      ]
     },
     "metadata": {},
     "output_type": "display_data"
    },
    {
     "name": "stdout",
     "output_type": "stream",
     "text": [
      "\n"
     ]
    },
    {
     "data": {
      "application/vnd.jupyter.widget-view+json": {
       "model_id": "3fa5c031557448d387d600a63f0d7837",
       "version_major": 2,
       "version_minor": 0
      },
      "text/plain": [
       "HBox(children=(FloatProgress(value=0.0, description='size06_p010', style=ProgressStyle(description_width='init…"
      ]
     },
     "metadata": {},
     "output_type": "display_data"
    },
    {
     "name": "stdout",
     "output_type": "stream",
     "text": [
      "\n"
     ]
    },
    {
     "data": {
      "application/vnd.jupyter.widget-view+json": {
       "model_id": "4282c42d89474af88570a423dbb6ed8c",
       "version_major": 2,
       "version_minor": 0
      },
      "text/plain": [
       "HBox(children=(FloatProgress(value=0.0, description='size06_p050', style=ProgressStyle(description_width='init…"
      ]
     },
     "metadata": {},
     "output_type": "display_data"
    },
    {
     "name": "stdout",
     "output_type": "stream",
     "text": [
      "\n"
     ]
    },
    {
     "data": {
      "application/vnd.jupyter.widget-view+json": {
       "model_id": "5a0073c268144e78b48b36a23578f977",
       "version_major": 2,
       "version_minor": 0
      },
      "text/plain": [
       "HBox(children=(FloatProgress(value=0.0, description='size06_p100', style=ProgressStyle(description_width='init…"
      ]
     },
     "metadata": {},
     "output_type": "display_data"
    },
    {
     "name": "stdout",
     "output_type": "stream",
     "text": [
      "\n"
     ]
    },
    {
     "data": {
      "application/vnd.jupyter.widget-view+json": {
       "model_id": "d76b27f6541441a8bd709c71d1a42d09",
       "version_major": 2,
       "version_minor": 0
      },
      "text/plain": [
       "HBox(children=(FloatProgress(value=0.0, description='size15_p001', style=ProgressStyle(description_width='init…"
      ]
     },
     "metadata": {},
     "output_type": "display_data"
    },
    {
     "name": "stdout",
     "output_type": "stream",
     "text": [
      "\n"
     ]
    },
    {
     "data": {
      "application/vnd.jupyter.widget-view+json": {
       "model_id": "b095233ce5374aa49d715c497ced62ff",
       "version_major": 2,
       "version_minor": 0
      },
      "text/plain": [
       "HBox(children=(FloatProgress(value=0.0, description='size15_p005', style=ProgressStyle(description_width='init…"
      ]
     },
     "metadata": {},
     "output_type": "display_data"
    },
    {
     "name": "stdout",
     "output_type": "stream",
     "text": [
      "\n"
     ]
    },
    {
     "data": {
      "application/vnd.jupyter.widget-view+json": {
       "model_id": "7499367c424a42019cf3aadca2102e36",
       "version_major": 2,
       "version_minor": 0
      },
      "text/plain": [
       "HBox(children=(FloatProgress(value=0.0, description='size15_p010', style=ProgressStyle(description_width='init…"
      ]
     },
     "metadata": {},
     "output_type": "display_data"
    },
    {
     "name": "stdout",
     "output_type": "stream",
     "text": [
      "\n"
     ]
    },
    {
     "data": {
      "application/vnd.jupyter.widget-view+json": {
       "model_id": "844cd2c860724edeb40404f63de56dc0",
       "version_major": 2,
       "version_minor": 0
      },
      "text/plain": [
       "HBox(children=(FloatProgress(value=0.0, description='size15_p050', style=ProgressStyle(description_width='init…"
      ]
     },
     "metadata": {},
     "output_type": "display_data"
    },
    {
     "name": "stdout",
     "output_type": "stream",
     "text": [
      "\n"
     ]
    },
    {
     "data": {
      "application/vnd.jupyter.widget-view+json": {
       "model_id": "e57165884eb642a4a94a0eb7c4ee83f7",
       "version_major": 2,
       "version_minor": 0
      },
      "text/plain": [
       "HBox(children=(FloatProgress(value=0.0, description='size15_p100', style=ProgressStyle(description_width='init…"
      ]
     },
     "metadata": {},
     "output_type": "display_data"
    },
    {
     "name": "stdout",
     "output_type": "stream",
     "text": [
      "\n"
     ]
    },
    {
     "data": {
      "application/vnd.jupyter.widget-view+json": {
       "model_id": "209e575526884069af360fea43bcd4c8",
       "version_major": 2,
       "version_minor": 0
      },
      "text/plain": [
       "HBox(children=(FloatProgress(value=0.0, description='size30_p001', style=ProgressStyle(description_width='init…"
      ]
     },
     "metadata": {},
     "output_type": "display_data"
    },
    {
     "name": "stdout",
     "output_type": "stream",
     "text": [
      "\n"
     ]
    },
    {
     "data": {
      "application/vnd.jupyter.widget-view+json": {
       "model_id": "461d07baffc7495aa6733dd831e2816f",
       "version_major": 2,
       "version_minor": 0
      },
      "text/plain": [
       "HBox(children=(FloatProgress(value=0.0, description='size30_p005', style=ProgressStyle(description_width='init…"
      ]
     },
     "metadata": {},
     "output_type": "display_data"
    },
    {
     "name": "stdout",
     "output_type": "stream",
     "text": [
      "\n"
     ]
    },
    {
     "data": {
      "application/vnd.jupyter.widget-view+json": {
       "model_id": "5980d92389f14a0ab65b5f847ad452ac",
       "version_major": 2,
       "version_minor": 0
      },
      "text/plain": [
       "HBox(children=(FloatProgress(value=0.0, description='size30_p010', style=ProgressStyle(description_width='init…"
      ]
     },
     "metadata": {},
     "output_type": "display_data"
    },
    {
     "name": "stdout",
     "output_type": "stream",
     "text": [
      "\n"
     ]
    },
    {
     "data": {
      "application/vnd.jupyter.widget-view+json": {
       "model_id": "8367fda8d73f454e9ce7eeab61291bb0",
       "version_major": 2,
       "version_minor": 0
      },
      "text/plain": [
       "HBox(children=(FloatProgress(value=0.0, description='size30_p050', style=ProgressStyle(description_width='init…"
      ]
     },
     "metadata": {},
     "output_type": "display_data"
    },
    {
     "name": "stdout",
     "output_type": "stream",
     "text": [
      "\n"
     ]
    },
    {
     "data": {
      "application/vnd.jupyter.widget-view+json": {
       "model_id": "4af9a08e136f4182904201dcefb058c4",
       "version_major": 2,
       "version_minor": 0
      },
      "text/plain": [
       "HBox(children=(FloatProgress(value=0.0, description='size30_p100', style=ProgressStyle(description_width='init…"
      ]
     },
     "metadata": {},
     "output_type": "display_data"
    },
    {
     "name": "stdout",
     "output_type": "stream",
     "text": [
      "\n"
     ]
    },
    {
     "data": {
      "application/vnd.jupyter.widget-view+json": {
       "model_id": "2d376a63693c4f888ccbe7efbc93893f",
       "version_major": 2,
       "version_minor": 0
      },
      "text/plain": [
       "HBox(children=(FloatProgress(value=0.0, description='size60_p001', style=ProgressStyle(description_width='init…"
      ]
     },
     "metadata": {},
     "output_type": "display_data"
    },
    {
     "name": "stdout",
     "output_type": "stream",
     "text": [
      "\n"
     ]
    },
    {
     "data": {
      "application/vnd.jupyter.widget-view+json": {
       "model_id": "365f4b7fee0849e39adeedf60997da4b",
       "version_major": 2,
       "version_minor": 0
      },
      "text/plain": [
       "HBox(children=(FloatProgress(value=0.0, description='size60_p005', style=ProgressStyle(description_width='init…"
      ]
     },
     "metadata": {},
     "output_type": "display_data"
    },
    {
     "name": "stdout",
     "output_type": "stream",
     "text": [
      "\n"
     ]
    },
    {
     "data": {
      "application/vnd.jupyter.widget-view+json": {
       "model_id": "2bd9085c1485457695f7165e7d7ef9dd",
       "version_major": 2,
       "version_minor": 0
      },
      "text/plain": [
       "HBox(children=(FloatProgress(value=0.0, description='size60_p010', style=ProgressStyle(description_width='init…"
      ]
     },
     "metadata": {},
     "output_type": "display_data"
    },
    {
     "name": "stdout",
     "output_type": "stream",
     "text": [
      "\n"
     ]
    },
    {
     "data": {
      "application/vnd.jupyter.widget-view+json": {
       "model_id": "fb8ef4f2016d4aea939d8ab4960be7cf",
       "version_major": 2,
       "version_minor": 0
      },
      "text/plain": [
       "HBox(children=(FloatProgress(value=0.0, description='size60_p050', style=ProgressStyle(description_width='init…"
      ]
     },
     "metadata": {},
     "output_type": "display_data"
    },
    {
     "name": "stdout",
     "output_type": "stream",
     "text": [
      "\n"
     ]
    },
    {
     "data": {
      "application/vnd.jupyter.widget-view+json": {
       "model_id": "1220749c75b842a887d2f0216e7cef0c",
       "version_major": 2,
       "version_minor": 0
      },
      "text/plain": [
       "HBox(children=(FloatProgress(value=0.0, description='size60_p100', style=ProgressStyle(description_width='init…"
      ]
     },
     "metadata": {},
     "output_type": "display_data"
    },
    {
     "name": "stdout",
     "output_type": "stream",
     "text": [
      "\n"
     ]
    },
    {
     "data": {
      "application/vnd.jupyter.widget-view+json": {
       "model_id": "97fec056aadb4cfb86df60e3d8abe21c",
       "version_major": 2,
       "version_minor": 0
      },
      "text/plain": [
       "HBox(children=(FloatProgress(value=0.0, description='size01_p001', style=ProgressStyle(description_width='init…"
      ]
     },
     "metadata": {},
     "output_type": "display_data"
    },
    {
     "name": "stdout",
     "output_type": "stream",
     "text": [
      "\n"
     ]
    },
    {
     "data": {
      "application/vnd.jupyter.widget-view+json": {
       "model_id": "2134c7d92190453b9c3ed54a6f92b5fb",
       "version_major": 2,
       "version_minor": 0
      },
      "text/plain": [
       "HBox(children=(FloatProgress(value=0.0, description='size01_p005', style=ProgressStyle(description_width='init…"
      ]
     },
     "metadata": {},
     "output_type": "display_data"
    },
    {
     "name": "stdout",
     "output_type": "stream",
     "text": [
      "\n"
     ]
    },
    {
     "data": {
      "application/vnd.jupyter.widget-view+json": {
       "model_id": "af808baff6234085ac02560c7c41e3d1",
       "version_major": 2,
       "version_minor": 0
      },
      "text/plain": [
       "HBox(children=(FloatProgress(value=0.0, description='size01_p010', style=ProgressStyle(description_width='init…"
      ]
     },
     "metadata": {},
     "output_type": "display_data"
    },
    {
     "name": "stdout",
     "output_type": "stream",
     "text": [
      "\n"
     ]
    },
    {
     "data": {
      "application/vnd.jupyter.widget-view+json": {
       "model_id": "dd0f01278b184b8e8ff03d254076bd2c",
       "version_major": 2,
       "version_minor": 0
      },
      "text/plain": [
       "HBox(children=(FloatProgress(value=0.0, description='size01_p050', style=ProgressStyle(description_width='init…"
      ]
     },
     "metadata": {},
     "output_type": "display_data"
    },
    {
     "name": "stdout",
     "output_type": "stream",
     "text": [
      "\n"
     ]
    },
    {
     "data": {
      "application/vnd.jupyter.widget-view+json": {
       "model_id": "51f0568affa0480a8c89a9082488d800",
       "version_major": 2,
       "version_minor": 0
      },
      "text/plain": [
       "HBox(children=(FloatProgress(value=0.0, description='size01_p100', style=ProgressStyle(description_width='init…"
      ]
     },
     "metadata": {},
     "output_type": "display_data"
    },
    {
     "name": "stdout",
     "output_type": "stream",
     "text": [
      "\n",
      "\n"
     ]
    }
   ],
   "source": [
    "# idx = 5\n",
    "# if True:\n",
    "for idx in tqdm(trial_idx):\n",
    "    exp_name = trial_names[idx]\n",
    "\n",
    "    trial_rst = np.nan_to_num(trial[idx])\n",
    "    inp_rate = sq_rate + 12.5 * trial_rst\n",
    "    rst_yield_obs =  rst_b0 + rst_b1 * inp_rate + rst_b2 * inp_rate**2\n",
    "\n",
    "    y = rst_yield_obs.reshape(-1,1)\n",
    "    X = inp_rate.reshape(-1,1)\n",
    "\n",
    "    y_std = StandardScaler().fit(y)\n",
    "    y = y_std.transform(y).reshape(rst_yield_obs.shape)\n",
    "\n",
    "    X_std = StandardScaler().fit(X)\n",
    "    X = X_std.transform(X).reshape(inp_rate.shape)\n",
    "\n",
    "    p = np.array([0,1,2])[:,None,None]\n",
    "    X = X[None,None] ** (np.ones((3, *X.shape)) * p)\n",
    "\n",
    "    c = y[:,None].repeat(3,1)\n",
    "    c[:,1:] = 0\n",
    "    c = torch.tensor(c, device = device, requires_grad = True)\n",
    "\n",
    "    cw = torch.ones_like(c)[0,0,None,None]\n",
    "    cw = F.conv2d(cw, W[[0]], stride = 1, padding = 25)\n",
    "\n",
    "    X = torch.tensor(X, device = device)\n",
    "    y = torch.tensor(y, device = device)\n",
    "\n",
    "\n",
    "    criterion = nn.MSELoss()\n",
    "    learning_rate = 0.1\n",
    "    optimizer = torch.optim.Adam((c,), learning_rate)\n",
    "\n",
    "    for i in trange(100, desc = exp_name):\n",
    "        \n",
    "        # Clean the gradients\n",
    "        optimizer.zero_grad()\n",
    "\n",
    "        # Enforce spatial correlation:\n",
    "        d = 2\n",
    "        cm = F.conv2d(c, W, stride = 1, padding = d * 25, dilation = d, groups = 3)\n",
    "        cm = F.avg_pool2d(cm, 3, 1, 1)\n",
    "\n",
    "        # Correct border effects:\n",
    "        cm = cm/cw\n",
    "\n",
    "        # Enforce fixed (global) parameter for the second order effect:\n",
    "#         cm[:,2] = cm[:,2].mean()\n",
    "        cm[:,2] = rst_b2g\n",
    "        \n",
    "\n",
    "        # Predict the yield based on the spatial parameters and the rates applied:\n",
    "        pred = (X * cm).sum(1)\n",
    "\n",
    "        # Calc the loss using the MSE between actual and predicted yield:\n",
    "        loss = criterion(pred, y)\n",
    "\n",
    "        # Also minimize the distance between the raw parameters and their spatially smothed version:\n",
    "        loss += criterion(cm, c)\n",
    "\n",
    "        # Calc the gradients:\n",
    "        loss.backward()\n",
    "\n",
    "        # Update model parameters:\n",
    "        optimizer.step()\n",
    "\n",
    "        \n",
    "    X_testr = torch.linspace(0, 200, 201, device = device)\n",
    "    X_cost = X_testr[:,None,None] * nitrogen_cost\n",
    "    X_test = (X_testr - X_std.mean_[0]) /  X_std.scale_[0]\n",
    "    p = torch.arange(3, device = device)[None,:,None,None].repeat(1,1,*c.shape[-2:])\n",
    "    X_test = X_test[:,None,None,None] ** p\n",
    "\n",
    "    best_idx = []\n",
    "    for i in range(len(c)):\n",
    "        y_test = (X_test * cm[i]).sum(1)\n",
    "        y_test = y_std.mean_[0] + (y_std.scale_[0] * y_test)\n",
    "        y_net_pred = y_test * cotton_price - X_cost\n",
    "        best_idx.append(y_net_pred.argmax(0))\n",
    "\n",
    "    best_idx = torch.stack(best_idx)\n",
    "    rst_optr_pred = X_testr[best_idx].cpu().numpy()\n",
    "    np.save(f'../data/{exp_name}_{opt_pct}.npy', rst_optr_pred.astype('uint8'))\n"
   ]
  },
  {
   "cell_type": "code",
   "execution_count": null,
   "metadata": {},
   "outputs": [],
   "source": [
    "cm[:,2].mean()"
   ]
  },
  {
   "cell_type": "code",
   "execution_count": null,
   "metadata": {},
   "outputs": [],
   "source": [
    "plt.imshow(rst_optr_pred[50])"
   ]
  },
  {
   "cell_type": "code",
   "execution_count": null,
   "metadata": {},
   "outputs": [],
   "source": [
    "plt.imshow(rst_optr[50])"
   ]
  },
  {
   "cell_type": "code",
   "execution_count": null,
   "metadata": {},
   "outputs": [],
   "source": [
    "plt.hist(rst_optr_pred[50].flatten())"
   ]
  },
  {
   "cell_type": "code",
   "execution_count": null,
   "metadata": {},
   "outputs": [],
   "source": [
    "plt.hist(rst_optr[50].flatten())"
   ]
  },
  {
   "cell_type": "code",
   "execution_count": null,
   "metadata": {},
   "outputs": [],
   "source": []
  }
 ],
 "metadata": {
  "kernelspec": {
   "display_name": "Python [conda env:GEOANN]",
   "language": "python",
   "name": "conda-env-GEOANN-py"
  },
  "language_info": {
   "codemirror_mode": {
    "name": "ipython",
    "version": 3
   },
   "file_extension": ".py",
   "mimetype": "text/x-python",
   "name": "python",
   "nbconvert_exporter": "python",
   "pygments_lexer": "ipython3",
   "version": "3.7.8"
  }
 },
 "nbformat": 4,
 "nbformat_minor": 4
}
