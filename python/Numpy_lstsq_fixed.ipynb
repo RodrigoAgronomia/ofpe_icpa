{
 "cells": [
  {
   "cell_type": "code",
   "execution_count": 13,
   "metadata": {},
   "outputs": [],
   "source": [
    "import numpy as np\n",
    "import pandas as pd\n",
    "import seaborn as sns\n",
    "import matplotlib.pyplot as plt\n",
    "from tqdm.notebook import tqdm, trange"
   ]
  },
  {
   "cell_type": "code",
   "execution_count": 121,
   "metadata": {},
   "outputs": [],
   "source": [
    "cotton_price = 1.5\n",
    "nitrogen_cost = 0.9\n",
    "nitrogen_ratio = nitrogen_cost/cotton_price\n",
    "sq_rate = 100\n",
    "sq_yield = 1500\n",
    "yield_sd = 100\n",
    "eonr_sd = 25\n",
    "rst_b2g = -0.02\n",
    "opt_pcts = [50, 75, 100]\n",
    "rate_rngs = [25, 50, 100]"
   ]
  },
  {
   "cell_type": "code",
   "execution_count": 122,
   "metadata": {},
   "outputs": [],
   "source": [
    "trial = np.load('../data/Trial_Design.npy')\n",
    "trial_names = np.load('../data/Trial_Design_names.npy', allow_pickle=True)\n",
    "trial_idx = [i for i, n in enumerate(trial_names) if not 'rep' in n]\n",
    "trial_coords = np.load('../data/Trial_Design_coords.npy')\n",
    "trial_coords_idx = np.int0(np.floor(trial_coords/3))\n",
    "n = trial_coords.shape[0]\n",
    "\n",
    "rst_sim = np.load('../data/Trial_sim.npy')\n",
    "b0_true = rst_sim[:100]\n",
    "b1_true = rst_sim[100:]\n",
    "\n",
    "meig = np.load('../data/Trial_meig.npy').transpose([-1, -2, -3])"
   ]
  },
  {
   "cell_type": "code",
   "execution_count": null,
   "metadata": {},
   "outputs": [],
   "source": []
  },
  {
   "cell_type": "code",
   "execution_count": 147,
   "metadata": {},
   "outputs": [],
   "source": [
    "idx = np.where(trial_names == 'size60_p100')[0][0]\n",
    "opt_pct = 100\n",
    "rate_rng = 25\n",
    "\n",
    "rst_optr = sq_rate * (opt_pct/100 + (0.25 * b1_true))   \n",
    "rst_optr = np.clip(rst_optr, 0, 200)\n",
    "\n",
    "rst_b1 = -2 * rst_b2g * rst_optr + nitrogen_ratio\n",
    "rst_b0 = sq_yield + yield_sd * b0_true\n",
    "rst_b0 = rst_b0 - (rst_b1 * sq_rate + rst_b2g * sq_rate **2) \n",
    "\n",
    "rst_yield_ref =  rst_b0 + rst_b1 * sq_rate + rst_b2g * sq_rate**2\n",
    "rst_yield_opt_f =  rst_b0 + rst_b1 * opt_pct + rst_b2g * opt_pct**2\n",
    "rst_yield_opt =  rst_b0 + rst_b1 * rst_optr + rst_b2g * rst_optr**2\n",
    "\n",
    "rst_net_ref = rst_yield_ref * cotton_price - sq_rate * nitrogen_cost\n",
    "rst_net_opt_f = rst_yield_opt_f * cotton_price - opt_pct * nitrogen_cost \n",
    "rst_net_opt = rst_yield_opt * cotton_price - rst_optr * nitrogen_cost \n",
    "\n",
    "rst_net_f = (rst_net_opt_f - rst_net_ref).mean((1,2))\n",
    "rst_net_max = (rst_net_opt - rst_net_ref).mean((1,2))\n",
    "exp_name = trial_names[idx]\n",
    "trial_rst = np.nan_to_num(trial[idx])/2\n",
    "\n",
    "trial_rate = rate_rng * trial_rst\n",
    "inp_rate = trial_rate + sq_rate\n",
    "rst_yield_obs =  rst_b0 + rst_b1 * trial_rate + rst_b2g * trial_rate**2\n",
    "\n",
    "X = trial_rate.reshape(1, -1)\n",
    "Xf = (X ** np.array([0,1,2])[:,None]).T\n",
    "y = rst_yield_obs.reshape(len(rst_yield_obs), -1).T\n",
    "xpred, _, _, _ = np.linalg.lstsq(Xf, y, rcond = None)\n",
    "\n",
    "b0_pred = xpred[0,:,None,None]\n",
    "b1_pred = xpred[1,:,None,None]\n",
    "b2_pred = xpred[2,:,None,None]\n",
    "rst_optr_pred = np.clip((b1_pred - nitrogen_ratio) / (-2 * b2_pred),0, 200)\n",
    "\n",
    "rst_yield_obs =  rst_b0 + rst_b1 * inp_rate + rst_b2g * inp_rate**2\n",
    "rst_yield_pred =  rst_b0 + rst_b1 * rst_optr_pred + rst_b2g * rst_optr_pred**2\n",
    "\n",
    "rst_net_obs = rst_yield_obs * cotton_price - inp_rate * nitrogen_cost \n",
    "rst_net_pred = rst_yield_pred * cotton_price - rst_optr_pred * nitrogen_cost \n",
    "\n",
    "rst_net_loss = (rst_net_obs - rst_net_ref).mean((1,2))\n",
    "rst_net_diff = (rst_net_pred - rst_net_ref).mean((1,2))\n",
    "rst_net_pct = 100 * rst_net_diff / rst_net_max.mean()\n",
    "avg_nrate = rst_optr_pred.mean((1,2))\n",
    "\n",
    "rnp = np.stack([rst_net_max, avg_nrate, rst_net_loss, rst_net_diff, rst_net_pct], -1)\n",
    "df = pd.DataFrame(rnp, columns=['Max', 'AVG', 'Loss', 'VRT', 'VRTpct'])\n",
    "df['rate_rng'] = rate_rng\n",
    "df['opt_pct'] = opt_pct\n",
    "df['Trial'] = exp_name\n",
    "df['Rep'] = np.arange(len(df))"
   ]
  },
  {
   "cell_type": "code",
   "execution_count": 148,
   "metadata": {},
   "outputs": [
    {
     "data": {
      "text/plain": [
       "(array([   3029.,   44851.,  291882.,  940143., 1700633., 1738182.,\n",
       "         959292.,  277820.,   40889.,    3279.]),\n",
       " array([ 2.5,  3.3,  4.1,  4.9,  5.7,  6.5,  7.3,  8.1,  8.9,  9.7, 10.5]),\n",
       " <BarContainer object of 10 artists>)"
      ]
     },
     "execution_count": 148,
     "metadata": {},
     "output_type": "execute_result"
    },
    {
     "data": {
      "image/png": "[encoded data removed]",
      "text/plain": [
       "<Figure size 432x288 with 1 Axes>"
      ]
     },
     "metadata": {
      "needs_background": "light"
     },
     "output_type": "display_data"
    }
   ],
   "source": [
    "plt.hist(rst_b1.flatten())"
   ]
  },
  {
   "cell_type": "code",
   "execution_count": 149,
   "metadata": {},
   "outputs": [
    {
     "data": {
      "text/plain": [
       "(array([ 2.,  3., 11., 31., 25., 18.,  7.,  1.,  0.,  2.]),\n",
       " array([-0.16400107, -0.12821927, -0.09243747, -0.05665566, -0.02087386,\n",
       "         0.01490794,  0.05068974,  0.08647155,  0.12225335,  0.15803515,\n",
       "         0.19381695]),\n",
       " <BarContainer object of 10 artists>)"
      ]
     },
     "execution_count": 149,
     "metadata": {},
     "output_type": "execute_result"
    },
    {
     "data": {
      "image/png": "[encoded data removed]",
      "text/plain": [
       "<Figure size 432x288 with 1 Axes>"
      ]
     },
     "metadata": {
      "needs_background": "light"
     },
     "output_type": "display_data"
    }
   ],
   "source": [
    "plt.hist(b2_pred.flatten())"
   ]
  },
  {
   "cell_type": "code",
   "execution_count": null,
   "metadata": {},
   "outputs": [],
   "source": []
  },
  {
   "cell_type": "code",
   "execution_count": 150,
   "metadata": {},
   "outputs": [
    {
     "data": {
      "text/plain": [
       "(38.06545778913784, 47.80454783178742)"
      ]
     },
     "execution_count": 150,
     "metadata": {},
     "output_type": "execute_result"
    }
   ],
   "source": [
    "df.AVG.mean(), df.AVG.std()"
   ]
  },
  {
   "cell_type": "code",
   "execution_count": 151,
   "metadata": {},
   "outputs": [
    {
     "data": {
      "text/plain": [
       "<AxesSubplot:>"
      ]
     },
     "execution_count": 151,
     "metadata": {},
     "output_type": "execute_result"
    },
    {
     "data": {
      "image/png": "[encoded data removed]",
      "text/plain": [
       "<Figure size 432x288 with 1 Axes>"
      ]
     },
     "metadata": {
      "needs_background": "light"
     },
     "output_type": "display_data"
    }
   ],
   "source": [
    "df.AVG.hist()"
   ]
  },
  {
   "cell_type": "code",
   "execution_count": 129,
   "metadata": {},
   "outputs": [
    {
     "data": {
      "text/plain": [
       "<matplotlib.colorbar.Colorbar at 0x7f08c3e90790>"
      ]
     },
     "execution_count": 129,
     "metadata": {},
     "output_type": "execute_result"
    },
    {
     "data": {
      "image/png": "[encoded data removed]",
      "text/plain": [
       "<Figure size 432x288 with 2 Axes>"
      ]
     },
     "metadata": {
      "needs_background": "light"
     },
     "output_type": "display_data"
    }
   ],
   "source": [
    "plt.imshow(inp_rate)\n",
    "plt.colorbar()"
   ]
  },
  {
   "cell_type": "code",
   "execution_count": 130,
   "metadata": {},
   "outputs": [
    {
     "data": {
      "text/html": [
       "<div>\n",
       "<style scoped>\n",
       "    .dataframe tbody tr th:only-of-type {\n",
       "        vertical-align: middle;\n",
       "    }\n",
       "\n",
       "    .dataframe tbody tr th {\n",
       "        vertical-align: top;\n",
       "    }\n",
       "\n",
       "    .dataframe thead th {\n",
       "        text-align: right;\n",
       "    }\n",
       "</style>\n",
       "<table border=\"1\" class=\"dataframe\">\n",
       "  <thead>\n",
       "    <tr style=\"text-align: right;\">\n",
       "      <th></th>\n",
       "      <th>Max</th>\n",
       "      <th>AVG</th>\n",
       "      <th>Loss</th>\n",
       "      <th>VRT</th>\n",
       "      <th>VRTpct</th>\n",
       "      <th>rate_rng</th>\n",
       "      <th>opt_pct</th>\n",
       "      <th>Trial</th>\n",
       "      <th>Rep</th>\n",
       "    </tr>\n",
       "  </thead>\n",
       "  <tbody>\n",
       "    <tr>\n",
       "      <th>0</th>\n",
       "      <td>4.999917</td>\n",
       "      <td>0.000000</td>\n",
       "      <td>-2.551714</td>\n",
       "      <td>-80.000000</td>\n",
       "      <td>-1600.075334</td>\n",
       "      <td>25</td>\n",
       "      <td>100</td>\n",
       "      <td>size60_p100</td>\n",
       "      <td>0</td>\n",
       "    </tr>\n",
       "    <tr>\n",
       "      <th>1</th>\n",
       "      <td>4.999917</td>\n",
       "      <td>0.000000</td>\n",
       "      <td>-2.503505</td>\n",
       "      <td>-80.000000</td>\n",
       "      <td>-1600.075334</td>\n",
       "      <td>25</td>\n",
       "      <td>100</td>\n",
       "      <td>size60_p100</td>\n",
       "      <td>1</td>\n",
       "    </tr>\n",
       "    <tr>\n",
       "      <th>2</th>\n",
       "      <td>4.999917</td>\n",
       "      <td>0.000000</td>\n",
       "      <td>-2.599702</td>\n",
       "      <td>-80.000000</td>\n",
       "      <td>-1600.075334</td>\n",
       "      <td>25</td>\n",
       "      <td>100</td>\n",
       "      <td>size60_p100</td>\n",
       "      <td>2</td>\n",
       "    </tr>\n",
       "    <tr>\n",
       "      <th>3</th>\n",
       "      <td>4.999780</td>\n",
       "      <td>57.852363</td>\n",
       "      <td>-2.861645</td>\n",
       "      <td>-14.211330</td>\n",
       "      <td>-284.239992</td>\n",
       "      <td>25</td>\n",
       "      <td>100</td>\n",
       "      <td>size60_p100</td>\n",
       "      <td>3</td>\n",
       "    </tr>\n",
       "    <tr>\n",
       "      <th>4</th>\n",
       "      <td>4.999917</td>\n",
       "      <td>47.941318</td>\n",
       "      <td>-2.706958</td>\n",
       "      <td>-21.680851</td>\n",
       "      <td>-433.637429</td>\n",
       "      <td>25</td>\n",
       "      <td>100</td>\n",
       "      <td>size60_p100</td>\n",
       "      <td>4</td>\n",
       "    </tr>\n",
       "    <tr>\n",
       "      <th>...</th>\n",
       "      <td>...</td>\n",
       "      <td>...</td>\n",
       "      <td>...</td>\n",
       "      <td>...</td>\n",
       "      <td>...</td>\n",
       "      <td>...</td>\n",
       "      <td>...</td>\n",
       "      <td>...</td>\n",
       "      <td>...</td>\n",
       "    </tr>\n",
       "    <tr>\n",
       "      <th>95</th>\n",
       "      <td>4.999917</td>\n",
       "      <td>0.000000</td>\n",
       "      <td>-2.306722</td>\n",
       "      <td>-80.000000</td>\n",
       "      <td>-1600.075334</td>\n",
       "      <td>25</td>\n",
       "      <td>100</td>\n",
       "      <td>size60_p100</td>\n",
       "      <td>95</td>\n",
       "    </tr>\n",
       "    <tr>\n",
       "      <th>96</th>\n",
       "      <td>4.999917</td>\n",
       "      <td>158.232227</td>\n",
       "      <td>-3.005317</td>\n",
       "      <td>-27.127939</td>\n",
       "      <td>-542.584316</td>\n",
       "      <td>25</td>\n",
       "      <td>100</td>\n",
       "      <td>size60_p100</td>\n",
       "      <td>96</td>\n",
       "    </tr>\n",
       "    <tr>\n",
       "      <th>97</th>\n",
       "      <td>4.998479</td>\n",
       "      <td>30.875703</td>\n",
       "      <td>-2.721255</td>\n",
       "      <td>-38.224409</td>\n",
       "      <td>-764.524169</td>\n",
       "      <td>25</td>\n",
       "      <td>100</td>\n",
       "      <td>size60_p100</td>\n",
       "      <td>97</td>\n",
       "    </tr>\n",
       "    <tr>\n",
       "      <th>98</th>\n",
       "      <td>4.995716</td>\n",
       "      <td>29.869702</td>\n",
       "      <td>-2.647532</td>\n",
       "      <td>-39.343213</td>\n",
       "      <td>-786.901300</td>\n",
       "      <td>25</td>\n",
       "      <td>100</td>\n",
       "      <td>size60_p100</td>\n",
       "      <td>98</td>\n",
       "    </tr>\n",
       "    <tr>\n",
       "      <th>99</th>\n",
       "      <td>4.999895</td>\n",
       "      <td>0.000000</td>\n",
       "      <td>-2.269397</td>\n",
       "      <td>-80.000021</td>\n",
       "      <td>-1600.075761</td>\n",
       "      <td>25</td>\n",
       "      <td>100</td>\n",
       "      <td>size60_p100</td>\n",
       "      <td>99</td>\n",
       "    </tr>\n",
       "  </tbody>\n",
       "</table>\n",
       "<p>100 rows × 9 columns</p>\n",
       "</div>"
      ],
      "text/plain": [
       "         Max         AVG      Loss        VRT       VRTpct  rate_rng  opt_pct  \\\n",
       "0   4.999917    0.000000 -2.551714 -80.000000 -1600.075334        25      100   \n",
       "1   4.999917    0.000000 -2.503505 -80.000000 -1600.075334        25      100   \n",
       "2   4.999917    0.000000 -2.599702 -80.000000 -1600.075334        25      100   \n",
       "3   4.999780   57.852363 -2.861645 -14.211330  -284.239992        25      100   \n",
       "4   4.999917   47.941318 -2.706958 -21.680851  -433.637429        25      100   \n",
       "..       ...         ...       ...        ...          ...       ...      ...   \n",
       "95  4.999917    0.000000 -2.306722 -80.000000 -1600.075334        25      100   \n",
       "96  4.999917  158.232227 -3.005317 -27.127939  -542.584316        25      100   \n",
       "97  4.998479   30.875703 -2.721255 -38.224409  -764.524169        25      100   \n",
       "98  4.995716   29.869702 -2.647532 -39.343213  -786.901300        25      100   \n",
       "99  4.999895    0.000000 -2.269397 -80.000021 -1600.075761        25      100   \n",
       "\n",
       "          Trial  Rep  \n",
       "0   size60_p100    0  \n",
       "1   size60_p100    1  \n",
       "2   size60_p100    2  \n",
       "3   size60_p100    3  \n",
       "4   size60_p100    4  \n",
       "..          ...  ...  \n",
       "95  size60_p100   95  \n",
       "96  size60_p100   96  \n",
       "97  size60_p100   97  \n",
       "98  size60_p100   98  \n",
       "99  size60_p100   99  \n",
       "\n",
       "[100 rows x 9 columns]"
      ]
     },
     "execution_count": 130,
     "metadata": {},
     "output_type": "execute_result"
    }
   ],
   "source": [
    "df"
   ]
  }
 ],
 "metadata": {
  "kernelspec": {
   "display_name": "Python [conda env:GEOANN]",
   "language": "python",
   "name": "conda-env-GEOANN-py"
  },
  "language_info": {
   "codemirror_mode": {
    "name": "ipython",
    "version": 3
   },
   "file_extension": ".py",
   "mimetype": "text/x-python",
   "name": "python",
   "nbconvert_exporter": "python",
   "pygments_lexer": "ipython3",
   "version": "3.7.8"
  }
 },
 "nbformat": 4,
 "nbformat_minor": 4
}
