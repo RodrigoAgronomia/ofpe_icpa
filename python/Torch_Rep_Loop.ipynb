{
 "cells": [
  {
   "cell_type": "code",
   "execution_count": 1,
   "metadata": {},
   "outputs": [],
   "source": [
    "import torch\n",
    "import numpy as np\n",
    "import torch.nn as nn\n",
    "import torch.nn.functional as F\n",
    "import matplotlib.pyplot as plt\n",
    "from tqdm.notebook import tqdm, trange\n",
    "device = torch.device('cuda')"
   ]
  },
  {
   "cell_type": "code",
   "execution_count": 2,
   "metadata": {},
   "outputs": [],
   "source": [
    "from sklearn.preprocessing import StandardScaler\n",
    "from scipy.interpolate import NearestNDInterpolator\n",
    "from mgwr.kernels import Kernel"
   ]
  },
  {
   "cell_type": "code",
   "execution_count": 3,
   "metadata": {},
   "outputs": [],
   "source": [
    "cotton_price = 0.4\n",
    "nitrogen_cost = 1.0\n",
    "nitrogen_ratio = nitrogen_cost/cotton_price\n",
    "sq_rate = 100\n",
    "sq_yield = 4500\n",
    "rst_b2g = -0.02"
   ]
  },
  {
   "cell_type": "code",
   "execution_count": 4,
   "metadata": {},
   "outputs": [],
   "source": [
    "trial = np.load('../data/Trial_Design.npy')\n",
    "trial_names = np.load('../data/Trial_Design_names.npy', allow_pickle=True)\n",
    "trial_coords = np.load('../data/Trial_Design_coords.npy')\n",
    "trial_coords_idx = np.int0(np.floor(trial_coords/3))\n",
    "n = trial_coords.shape[0]\n",
    "\n",
    "rst_sim = np.load('../data/Trial_sim.npy')"
   ]
  },
  {
   "cell_type": "code",
   "execution_count": 5,
   "metadata": {},
   "outputs": [],
   "source": [
    "b0_true = rst_sim[:100]\n",
    "b1_true = rst_sim[100:]\n",
    "\n",
    "rst_optr = sq_rate * (1 + 0.25 * b1_true) \n",
    "rst_optr = np.clip(rst_optr, 0, 200)\n",
    "\n",
    "rst_b1 = -2 * rst_b2g * rst_optr + nitrogen_ratio\n",
    "rst_b0 = sq_yield * (1 + 0.05 * b0_true)\n",
    "rst_b0 = rst_b0 - (rst_b1 * rst_optr + rst_b2g * rst_optr **2) \n",
    "\n",
    "trial_idx = [i for i, n in enumerate(trial_names) if not 'rep' in n]"
   ]
  },
  {
   "cell_type": "code",
   "execution_count": 6,
   "metadata": {},
   "outputs": [
    {
     "data": {
      "application/vnd.jupyter.widget-view+json": {
       "model_id": "aacf8f2b65be4980aa9f9c7c9dc8e417",
       "version_major": 2,
       "version_minor": 0
      },
      "text/plain": [
       "HBox(children=(FloatProgress(value=0.0, max=30.0), HTML(value='')))"
      ]
     },
     "metadata": {},
     "output_type": "display_data"
    },
    {
     "data": {
      "application/vnd.jupyter.widget-view+json": {
       "model_id": "8adf3349b344499c87e6421422727ec7",
       "version_major": 2,
       "version_minor": 0
      },
      "text/plain": [
       "HBox(children=(FloatProgress(value=0.0, description='size03_p001', style=ProgressStyle(description_width='init…"
      ]
     },
     "metadata": {},
     "output_type": "display_data"
    },
    {
     "name": "stdout",
     "output_type": "stream",
     "text": [
      "\n"
     ]
    },
    {
     "data": {
      "application/vnd.jupyter.widget-view+json": {
       "model_id": "8f78cb27eed34f8f939c821a3eb711d1",
       "version_major": 2,
       "version_minor": 0
      },
      "text/plain": [
       "HBox(children=(FloatProgress(value=0.0, description='size03_p005', style=ProgressStyle(description_width='init…"
      ]
     },
     "metadata": {},
     "output_type": "display_data"
    },
    {
     "name": "stdout",
     "output_type": "stream",
     "text": [
      "\n"
     ]
    },
    {
     "data": {
      "application/vnd.jupyter.widget-view+json": {
       "model_id": "4b32e65cdcae4000947ddbef43a46e9c",
       "version_major": 2,
       "version_minor": 0
      },
      "text/plain": [
       "HBox(children=(FloatProgress(value=0.0, description='size03_p010', style=ProgressStyle(description_width='init…"
      ]
     },
     "metadata": {},
     "output_type": "display_data"
    },
    {
     "name": "stdout",
     "output_type": "stream",
     "text": [
      "\n"
     ]
    },
    {
     "data": {
      "application/vnd.jupyter.widget-view+json": {
       "model_id": "064482556e5240fabc93c504bf85d513",
       "version_major": 2,
       "version_minor": 0
      },
      "text/plain": [
       "HBox(children=(FloatProgress(value=0.0, description='size03_p050', style=ProgressStyle(description_width='init…"
      ]
     },
     "metadata": {},
     "output_type": "display_data"
    },
    {
     "name": "stdout",
     "output_type": "stream",
     "text": [
      "\n"
     ]
    },
    {
     "data": {
      "application/vnd.jupyter.widget-view+json": {
       "model_id": "32fa29e152ac42c5992c0317af37abd1",
       "version_major": 2,
       "version_minor": 0
      },
      "text/plain": [
       "HBox(children=(FloatProgress(value=0.0, description='size03_p100', style=ProgressStyle(description_width='init…"
      ]
     },
     "metadata": {},
     "output_type": "display_data"
    },
    {
     "name": "stdout",
     "output_type": "stream",
     "text": [
      "\n"
     ]
    },
    {
     "data": {
      "application/vnd.jupyter.widget-view+json": {
       "model_id": "88affb51b9de4ca48da10c2977b5cd59",
       "version_major": 2,
       "version_minor": 0
      },
      "text/plain": [
       "HBox(children=(FloatProgress(value=0.0, description='size06_p001', style=ProgressStyle(description_width='init…"
      ]
     },
     "metadata": {},
     "output_type": "display_data"
    },
    {
     "name": "stdout",
     "output_type": "stream",
     "text": [
      "\n"
     ]
    },
    {
     "data": {
      "application/vnd.jupyter.widget-view+json": {
       "model_id": "c0fd6a5e5f12409c96f1b3de4c8ebdf9",
       "version_major": 2,
       "version_minor": 0
      },
      "text/plain": [
       "HBox(children=(FloatProgress(value=0.0, description='size06_p005', style=ProgressStyle(description_width='init…"
      ]
     },
     "metadata": {},
     "output_type": "display_data"
    },
    {
     "name": "stdout",
     "output_type": "stream",
     "text": [
      "\n"
     ]
    },
    {
     "data": {
      "application/vnd.jupyter.widget-view+json": {
       "model_id": "64270f20bec84caeaf40038179fc3a7a",
       "version_major": 2,
       "version_minor": 0
      },
      "text/plain": [
       "HBox(children=(FloatProgress(value=0.0, description='size06_p010', style=ProgressStyle(description_width='init…"
      ]
     },
     "metadata": {},
     "output_type": "display_data"
    },
    {
     "name": "stdout",
     "output_type": "stream",
     "text": [
      "\n"
     ]
    },
    {
     "data": {
      "application/vnd.jupyter.widget-view+json": {
       "model_id": "75362b1e77d043dfb35f1dd3f0285c1d",
       "version_major": 2,
       "version_minor": 0
      },
      "text/plain": [
       "HBox(children=(FloatProgress(value=0.0, description='size06_p050', style=ProgressStyle(description_width='init…"
      ]
     },
     "metadata": {},
     "output_type": "display_data"
    },
    {
     "name": "stdout",
     "output_type": "stream",
     "text": [
      "\n"
     ]
    },
    {
     "data": {
      "application/vnd.jupyter.widget-view+json": {
       "model_id": "fe883d9df42344888c85b368b1e83956",
       "version_major": 2,
       "version_minor": 0
      },
      "text/plain": [
       "HBox(children=(FloatProgress(value=0.0, description='size06_p100', style=ProgressStyle(description_width='init…"
      ]
     },
     "metadata": {},
     "output_type": "display_data"
    },
    {
     "name": "stdout",
     "output_type": "stream",
     "text": [
      "\n"
     ]
    },
    {
     "data": {
      "application/vnd.jupyter.widget-view+json": {
       "model_id": "e14b97726a2c437280a067e2b98c1061",
       "version_major": 2,
       "version_minor": 0
      },
      "text/plain": [
       "HBox(children=(FloatProgress(value=0.0, description='size15_p001', style=ProgressStyle(description_width='init…"
      ]
     },
     "metadata": {},
     "output_type": "display_data"
    },
    {
     "name": "stdout",
     "output_type": "stream",
     "text": [
      "\n"
     ]
    },
    {
     "data": {
      "application/vnd.jupyter.widget-view+json": {
       "model_id": "64328f5667f34c97ac64a924ade60d82",
       "version_major": 2,
       "version_minor": 0
      },
      "text/plain": [
       "HBox(children=(FloatProgress(value=0.0, description='size15_p005', style=ProgressStyle(description_width='init…"
      ]
     },
     "metadata": {},
     "output_type": "display_data"
    },
    {
     "name": "stdout",
     "output_type": "stream",
     "text": [
      "\n"
     ]
    },
    {
     "data": {
      "application/vnd.jupyter.widget-view+json": {
       "model_id": "d22098844427414996d2b3af9912938a",
       "version_major": 2,
       "version_minor": 0
      },
      "text/plain": [
       "HBox(children=(FloatProgress(value=0.0, description='size15_p010', style=ProgressStyle(description_width='init…"
      ]
     },
     "metadata": {},
     "output_type": "display_data"
    },
    {
     "name": "stdout",
     "output_type": "stream",
     "text": [
      "\n"
     ]
    },
    {
     "data": {
      "application/vnd.jupyter.widget-view+json": {
       "model_id": "d348d2535e104a75833cae6b42b2a2bf",
       "version_major": 2,
       "version_minor": 0
      },
      "text/plain": [
       "HBox(children=(FloatProgress(value=0.0, description='size15_p050', style=ProgressStyle(description_width='init…"
      ]
     },
     "metadata": {},
     "output_type": "display_data"
    },
    {
     "name": "stdout",
     "output_type": "stream",
     "text": [
      "\n"
     ]
    },
    {
     "data": {
      "application/vnd.jupyter.widget-view+json": {
       "model_id": "5c7ad8aff7f542be9857a7c13410f1b2",
       "version_major": 2,
       "version_minor": 0
      },
      "text/plain": [
       "HBox(children=(FloatProgress(value=0.0, description='size15_p100', style=ProgressStyle(description_width='init…"
      ]
     },
     "metadata": {},
     "output_type": "display_data"
    },
    {
     "name": "stdout",
     "output_type": "stream",
     "text": [
      "\n"
     ]
    },
    {
     "data": {
      "application/vnd.jupyter.widget-view+json": {
       "model_id": "01e8969395f04758953d7b0b7cdd80a5",
       "version_major": 2,
       "version_minor": 0
      },
      "text/plain": [
       "HBox(children=(FloatProgress(value=0.0, description='size30_p001', style=ProgressStyle(description_width='init…"
      ]
     },
     "metadata": {},
     "output_type": "display_data"
    },
    {
     "name": "stdout",
     "output_type": "stream",
     "text": [
      "\n"
     ]
    },
    {
     "data": {
      "application/vnd.jupyter.widget-view+json": {
       "model_id": "49a23aaef59345ca94edbc5e0446e328",
       "version_major": 2,
       "version_minor": 0
      },
      "text/plain": [
       "HBox(children=(FloatProgress(value=0.0, description='size30_p005', style=ProgressStyle(description_width='init…"
      ]
     },
     "metadata": {},
     "output_type": "display_data"
    },
    {
     "name": "stdout",
     "output_type": "stream",
     "text": [
      "\n"
     ]
    },
    {
     "data": {
      "application/vnd.jupyter.widget-view+json": {
       "model_id": "6ec9fdab1ec8461bace6cc385dc9e582",
       "version_major": 2,
       "version_minor": 0
      },
      "text/plain": [
       "HBox(children=(FloatProgress(value=0.0, description='size30_p010', style=ProgressStyle(description_width='init…"
      ]
     },
     "metadata": {},
     "output_type": "display_data"
    },
    {
     "name": "stdout",
     "output_type": "stream",
     "text": [
      "\n"
     ]
    },
    {
     "data": {
      "application/vnd.jupyter.widget-view+json": {
       "model_id": "fd1ca9d2a1ff4b49b21e59d79a9bb1f1",
       "version_major": 2,
       "version_minor": 0
      },
      "text/plain": [
       "HBox(children=(FloatProgress(value=0.0, description='size30_p050', style=ProgressStyle(description_width='init…"
      ]
     },
     "metadata": {},
     "output_type": "display_data"
    },
    {
     "name": "stdout",
     "output_type": "stream",
     "text": [
      "\n"
     ]
    },
    {
     "data": {
      "application/vnd.jupyter.widget-view+json": {
       "model_id": "b83a079d58104ec5839ad2fbc4975c1d",
       "version_major": 2,
       "version_minor": 0
      },
      "text/plain": [
       "HBox(children=(FloatProgress(value=0.0, description='size30_p100', style=ProgressStyle(description_width='init…"
      ]
     },
     "metadata": {},
     "output_type": "display_data"
    },
    {
     "name": "stdout",
     "output_type": "stream",
     "text": [
      "\n"
     ]
    },
    {
     "data": {
      "application/vnd.jupyter.widget-view+json": {
       "model_id": "61c32108cfe94cfeaf17261af037d97a",
       "version_major": 2,
       "version_minor": 0
      },
      "text/plain": [
       "HBox(children=(FloatProgress(value=0.0, description='size60_p001', style=ProgressStyle(description_width='init…"
      ]
     },
     "metadata": {},
     "output_type": "display_data"
    },
    {
     "name": "stdout",
     "output_type": "stream",
     "text": [
      "\n"
     ]
    },
    {
     "data": {
      "application/vnd.jupyter.widget-view+json": {
       "model_id": "8d208aa3d88a492da04bc43af6bd8539",
       "version_major": 2,
       "version_minor": 0
      },
      "text/plain": [
       "HBox(children=(FloatProgress(value=0.0, description='size60_p005', style=ProgressStyle(description_width='init…"
      ]
     },
     "metadata": {},
     "output_type": "display_data"
    },
    {
     "name": "stdout",
     "output_type": "stream",
     "text": [
      "\n"
     ]
    },
    {
     "data": {
      "application/vnd.jupyter.widget-view+json": {
       "model_id": "a3e40358ece44a6ca53ff28bdb73e5cc",
       "version_major": 2,
       "version_minor": 0
      },
      "text/plain": [
       "HBox(children=(FloatProgress(value=0.0, description='size60_p010', style=ProgressStyle(description_width='init…"
      ]
     },
     "metadata": {},
     "output_type": "display_data"
    },
    {
     "name": "stdout",
     "output_type": "stream",
     "text": [
      "\n"
     ]
    },
    {
     "data": {
      "application/vnd.jupyter.widget-view+json": {
       "model_id": "ec5f31d1ad2d44c795ee97cf5d4c1d7d",
       "version_major": 2,
       "version_minor": 0
      },
      "text/plain": [
       "HBox(children=(FloatProgress(value=0.0, description='size60_p050', style=ProgressStyle(description_width='init…"
      ]
     },
     "metadata": {},
     "output_type": "display_data"
    },
    {
     "name": "stdout",
     "output_type": "stream",
     "text": [
      "\n"
     ]
    },
    {
     "data": {
      "application/vnd.jupyter.widget-view+json": {
       "model_id": "d38a2cb4aa034af5aa832d1d5828ae00",
       "version_major": 2,
       "version_minor": 0
      },
      "text/plain": [
       "HBox(children=(FloatProgress(value=0.0, description='size60_p100', style=ProgressStyle(description_width='init…"
      ]
     },
     "metadata": {},
     "output_type": "display_data"
    },
    {
     "name": "stdout",
     "output_type": "stream",
     "text": [
      "\n"
     ]
    },
    {
     "data": {
      "application/vnd.jupyter.widget-view+json": {
       "model_id": "4bec93ea23384ce0940fc7cc658051e4",
       "version_major": 2,
       "version_minor": 0
      },
      "text/plain": [
       "HBox(children=(FloatProgress(value=0.0, description='size01_p001', style=ProgressStyle(description_width='init…"
      ]
     },
     "metadata": {},
     "output_type": "display_data"
    },
    {
     "name": "stdout",
     "output_type": "stream",
     "text": [
      "\n"
     ]
    },
    {
     "data": {
      "application/vnd.jupyter.widget-view+json": {
       "model_id": "8b84e7ca48074f1a8655291f54da7933",
       "version_major": 2,
       "version_minor": 0
      },
      "text/plain": [
       "HBox(children=(FloatProgress(value=0.0, description='size01_p005', style=ProgressStyle(description_width='init…"
      ]
     },
     "metadata": {},
     "output_type": "display_data"
    },
    {
     "name": "stdout",
     "output_type": "stream",
     "text": [
      "\n"
     ]
    },
    {
     "data": {
      "application/vnd.jupyter.widget-view+json": {
       "model_id": "167de454d3fd43f6a18e8e175bc7ca64",
       "version_major": 2,
       "version_minor": 0
      },
      "text/plain": [
       "HBox(children=(FloatProgress(value=0.0, description='size01_p010', style=ProgressStyle(description_width='init…"
      ]
     },
     "metadata": {},
     "output_type": "display_data"
    },
    {
     "name": "stdout",
     "output_type": "stream",
     "text": [
      "\n"
     ]
    },
    {
     "data": {
      "application/vnd.jupyter.widget-view+json": {
       "model_id": "bc0aff792f66426c8c8d97d2a542c057",
       "version_major": 2,
       "version_minor": 0
      },
      "text/plain": [
       "HBox(children=(FloatProgress(value=0.0, description='size01_p050', style=ProgressStyle(description_width='init…"
      ]
     },
     "metadata": {},
     "output_type": "display_data"
    },
    {
     "name": "stdout",
     "output_type": "stream",
     "text": [
      "\n"
     ]
    },
    {
     "data": {
      "application/vnd.jupyter.widget-view+json": {
       "model_id": "843946e3a0c743628bbbfb8efd55bbca",
       "version_major": 2,
       "version_minor": 0
      },
      "text/plain": [
       "HBox(children=(FloatProgress(value=0.0, description='size01_p100', style=ProgressStyle(description_width='init…"
      ]
     },
     "metadata": {},
     "output_type": "display_data"
    },
    {
     "name": "stdout",
     "output_type": "stream",
     "text": [
      "\n",
      "\n"
     ]
    }
   ],
   "source": [
    "for idx in tqdm(trial_idx):\n",
    "    exp_name = trial_names[idx]\n",
    "\n",
    "    rep = trial[6 * (idx//6)].copy()\n",
    "    rep[np.isnan(trial[idx])] = 0\n",
    "    ridx = np.unique(np.insert(np.unique(rep), 0, 0))\n",
    "    repdm = rep[:,:,None] == ridx[None, None]\n",
    "    repf = repdm.argmax(-1).astype('float')\n",
    "    ridx = np.stack(np.where(repdm[:,:,1:]))\n",
    "    ridx = np.stack([ridx[:2,ridx[2] == i] for i in np.unique(ridx[2])], 1)\n",
    "    \n",
    "    irep = repf.reshape(-1)\n",
    "    z = irep[irep > 0]\n",
    "    xy = trial_coords[irep > 0]\n",
    "    interp = NearestNDInterpolator(xy, z)\n",
    "    repf = interp(trial_coords) - 1\n",
    "    repf = repf.reshape(rep.shape).astype('int')\n",
    "\n",
    "    trial_rst = np.nan_to_num(trial[idx])\n",
    "    inp_rate = sq_rate + 12.5 * trial_rst\n",
    "    rst_yield_obs =  rst_b0 + rst_b1 * inp_rate + rst_b2g * inp_rate**2\n",
    "\n",
    "    y = rst_yield_obs.reshape(-1,1)\n",
    "    X = inp_rate.reshape(-1,1)\n",
    "\n",
    "    y_std = StandardScaler().fit(y)\n",
    "    y = y_std.transform(y).reshape(rst_yield_obs.shape)\n",
    "\n",
    "    X_std = StandardScaler().fit(X)\n",
    "    X = X_std.transform(X).reshape(inp_rate.shape)\n",
    "\n",
    "    p = np.array([0,1,2])[:,None,None]\n",
    "    X = X[None,None] ** (np.ones((3, *X.shape)) * p)\n",
    "\n",
    "    c = y[:,None].repeat(3,1)\n",
    "    c[:,1:] = 0\n",
    "    c = torch.tensor(c[:,:,ridx[0], ridx[1]], device = device, requires_grad = True)\n",
    "\n",
    "    X = torch.tensor(X[:,:,ridx[0], ridx[1]], device = device)\n",
    "    y = torch.tensor(y[:,ridx[0], ridx[1]], device = device)\n",
    "\n",
    "    criterion = nn.MSELoss()\n",
    "    learning_rate = 0.1\n",
    "    optimizer = torch.optim.Adam((c,), learning_rate)\n",
    "\n",
    "    for i in trange(100, desc = exp_name):\n",
    "        # Clean the gradients\n",
    "        optimizer.zero_grad()\n",
    "\n",
    "        # Enforce single coefficient per replicate:\n",
    "        cm = c.mean(-1)[:,:,:,None].repeat(1,1,1,c.shape[-1])\n",
    "\n",
    "        # Enforce fixed (global) parameter for the second order effect:\n",
    "        cm[:,2] = cm[:,2].mean()\n",
    "\n",
    "        # Predict the yield based on the spatial parameters and the rates applied:\n",
    "        pred = (X * cm).sum(1)\n",
    "\n",
    "        # Calc the loss using the MSE between actual and predicted yield:\n",
    "        loss = criterion(pred, y)\n",
    "\n",
    "        # Also minimize the distance between the raw parameters and their spatially smothed version:\n",
    "        loss += criterion(cm, c)\n",
    "\n",
    "        # Calc the gradients:\n",
    "        loss.backward()\n",
    "\n",
    "        # Update model parameters:\n",
    "        optimizer.step()\n",
    "\n",
    "    X_testr = torch.linspace(0, 200, 200, device = device)\n",
    "    X_cost = X_testr[:,None,None] * nitrogen_cost\n",
    "    X_test = (X_testr - X_std.mean_[0]) /  X_std.scale_[0]\n",
    "    p = torch.tensor([[0,1,2]], device = device)[:,:,None,None]\n",
    "    X_test = X_test[:,None,None,None] ** (torch.ones_like(c)[0][None] * p)\n",
    "\n",
    "    best_idx = []\n",
    "    for i in range(len(c)):\n",
    "        y_test = (X_test * cm[i]).sum(1)\n",
    "        y_test = y_std.mean_[0] + (y_std.scale_[0] * y_test)\n",
    "        y_net_pred = y_test * cotton_price - X_cost\n",
    "        best_idx.append(y_net_pred.argmax(0))\n",
    "\n",
    "    best_idx = torch.stack(best_idx)\n",
    "    rst_optr_pred = X_testr[best_idx].cpu().numpy()\n",
    "    rst_optr_pred = rst_optr_pred.mean(-1)[:,repf]\n",
    "    np.save(f'../data/{exp_name}_lm.npy', rst_optr_pred)\n"
   ]
  },
  {
   "cell_type": "code",
   "execution_count": null,
   "metadata": {},
   "outputs": [],
   "source": []
  }
 ],
 "metadata": {
  "kernelspec": {
   "display_name": "Python [conda env:GEOANN]",
   "language": "python",
   "name": "conda-env-GEOANN-py"
  },
  "language_info": {
   "codemirror_mode": {
    "name": "ipython",
    "version": 3
   },
   "file_extension": ".py",
   "mimetype": "text/x-python",
   "name": "python",
   "nbconvert_exporter": "python",
   "pygments_lexer": "ipython3",
   "version": "3.7.6"
  }
 },
 "nbformat": 4,
 "nbformat_minor": 4
}
