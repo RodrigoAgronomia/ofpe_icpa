{
 "cells": [
  {
   "cell_type": "code",
   "execution_count": 1,
   "metadata": {},
   "outputs": [],
   "source": [
    "import numpy as np\n",
    "import pandas as pd\n",
    "import seaborn as sns\n",
    "import matplotlib.pyplot as plt\n",
    "from tqdm.notebook import tqdm, trange"
   ]
  },
  {
   "cell_type": "code",
   "execution_count": 2,
   "metadata": {},
   "outputs": [],
   "source": [
    "cotton_price = 1.5\n",
    "nitrogen_cost = 0.9\n",
    "nitrogen_ratio = nitrogen_cost/cotton_price\n",
    "sq_rate = 100\n",
    "sq_yield = 1500\n",
    "yield_sd = 100\n",
    "yield_noise = 5\n",
    "eonr_sd = 25\n",
    "rst_b2g = -0.02\n",
    "opt_pcts = [50, 75, 100]\n",
    "rate_rngs = [25, 50, 100]"
   ]
  },
  {
   "cell_type": "code",
   "execution_count": 3,
   "metadata": {},
   "outputs": [],
   "source": [
    "trial = np.load('../data/Trial_Design.npy')\n",
    "trial_names = np.load('../data/Trial_Design_names.npy', allow_pickle=True)\n",
    "trial_idx = [i for i, n in enumerate(trial_names) if not 'rep' in n]\n",
    "trial_coords = np.load('../data/Trial_Design_coords.npy')\n",
    "trial_coords_idx = np.int0(np.floor(trial_coords/3))\n",
    "n = trial_coords.shape[0]\n",
    "\n",
    "rst_sim = np.load('../data/Trial_sim.npy')\n",
    "b0_true = rst_sim[:100]\n",
    "b1_true = rst_sim[100:]"
   ]
  },
  {
   "cell_type": "code",
   "execution_count": 5,
   "metadata": {},
   "outputs": [
    {
     "data": {
      "application/vnd.jupyter.widget-view+json": {
       "model_id": "1a0edf1cd21e4e93a4095a4008c9402a",
       "version_major": 2,
       "version_minor": 0
      },
      "text/plain": [
       "HBox(children=(HTML(value=''), FloatProgress(value=0.0, max=30.0), HTML(value='')))"
      ]
     },
     "metadata": {},
     "output_type": "display_data"
    },
    {
     "name": "stdout",
     "output_type": "stream",
     "text": [
      "\n"
     ]
    },
    {
     "data": {
      "application/vnd.jupyter.widget-view+json": {
       "model_id": "20e3b343d9a74521b29dc49008ead665",
       "version_major": 2,
       "version_minor": 0
      },
      "text/plain": [
       "HBox(children=(HTML(value=''), FloatProgress(value=0.0, max=30.0), HTML(value='')))"
      ]
     },
     "metadata": {},
     "output_type": "display_data"
    },
    {
     "name": "stdout",
     "output_type": "stream",
     "text": [
      "\n"
     ]
    },
    {
     "data": {
      "application/vnd.jupyter.widget-view+json": {
       "model_id": "537316208e834446b997252075917bbb",
       "version_major": 2,
       "version_minor": 0
      },
      "text/plain": [
       "HBox(children=(HTML(value=''), FloatProgress(value=0.0, max=30.0), HTML(value='')))"
      ]
     },
     "metadata": {},
     "output_type": "display_data"
    },
    {
     "name": "stdout",
     "output_type": "stream",
     "text": [
      "\n"
     ]
    }
   ],
   "source": [
    "resultsdf = []\n",
    "for opt_pct in opt_pcts:    \n",
    "    rst_optr = opt_pct + eonr_sd * b1_true\n",
    "    rst_optr = np.clip(rst_optr, 0, 200)\n",
    "\n",
    "    rst_b1 = -2 * rst_b2g * rst_optr + nitrogen_ratio\n",
    "    rst_b0 = sq_yield + yield_sd * b0_true\n",
    "    rst_b0 = rst_b0 - (rst_b1 * sq_rate + rst_b2g * sq_rate **2) \n",
    "    \n",
    "    rst_yield_ref =  rst_b0 + rst_b1 * sq_rate + rst_b2g * sq_rate**2\n",
    "    rst_yield_opt_f =  rst_b0 + rst_b1 * opt_pct + rst_b2g * opt_pct**2\n",
    "    rst_yield_opt =  rst_b0 + rst_b1 * rst_optr + rst_b2g * rst_optr**2\n",
    "\n",
    "    rst_net_ref = rst_yield_ref * cotton_price - sq_rate * nitrogen_cost\n",
    "    rst_net_opt_f = rst_yield_opt_f * cotton_price - opt_pct * nitrogen_cost \n",
    "    rst_net_opt = rst_yield_opt * cotton_price - rst_optr * nitrogen_cost \n",
    "\n",
    "    rst_net_f = (rst_net_opt_f - rst_net_ref).mean((1,2))\n",
    "    rst_net_max = (rst_net_opt - rst_net_ref).mean((1,2))\n",
    "\n",
    "\n",
    "    for idx in tqdm(trial_idx):\n",
    "        exp_name = trial_names[idx]\n",
    "        trial_rst = np.nan_to_num(trial[idx])/2\n",
    "\n",
    "        for rate_rng in rate_rngs:\n",
    "            \n",
    "            trial_rate = rate_rng * trial_rst\n",
    "            inp_rate = trial_rate + sq_rate\n",
    "            yield_rnd = np.random.randn(*rst_b0.shape) * yield_noise\n",
    "            rst_yield_obs =  yield_rnd + rst_b0 + rst_b1 * trial_rate\n",
    "#             rst_yield_obs = yield_rnd + rst_b0 + rst_b1 * trial_rate + rst_b2g * trial_rate**2\n",
    "\n",
    "            X = trial_rate.reshape(1, -1)\n",
    "            Xf = (X ** np.array([0,1])[:,None]).T\n",
    "#             Xf = (X ** np.array([0,1, 2])[:,None]).T\n",
    "            y = rst_yield_obs.reshape(len(rst_yield_obs), -1).T\n",
    "            xpred, _, _, _ = np.linalg.lstsq(Xf, y, rcond = None)\n",
    "\n",
    "            b0_pred = xpred[0,:,None,None]\n",
    "            b1_pred = xpred[1,:,None,None]\n",
    "            b2_pred = rst_b2g\n",
    "#             b2_pred = xpred[2,:,None,None]\n",
    "            rst_optr_pred = (b1_pred - nitrogen_ratio) / (-2 * b2_pred)\n",
    "            rst_optr_pred = np.clip(rst_optr_pred, 0, 200)\n",
    "\n",
    "            rst_yield_obs =  rst_b0 + rst_b1 * inp_rate + rst_b2g * inp_rate**2\n",
    "            rst_yield_pred =  rst_b0 + rst_b1 * rst_optr_pred + rst_b2g * rst_optr_pred**2\n",
    "\n",
    "            rst_net_obs = rst_yield_obs * cotton_price - inp_rate * nitrogen_cost \n",
    "            rst_net_pred = rst_yield_pred * cotton_price - rst_optr_pred * nitrogen_cost \n",
    "\n",
    "            rst_net_loss = (rst_net_obs - rst_net_ref).mean((1,2))\n",
    "            rst_net_diff = (rst_net_pred - rst_net_ref).mean((1,2))\n",
    "            rst_net_pct = 100 * rst_net_diff / rst_net_max.mean()\n",
    "            avg_nrate = rst_optr_pred.mean((1,2))\n",
    "\n",
    "            rnp = np.stack([rst_net_max, avg_nrate, rst_net_loss, rst_net_diff, rst_net_pct], -1)\n",
    "            df = pd.DataFrame(rnp, columns=['Max', 'AVG', 'Loss', 'VRT', 'VRTpct'])\n",
    "            df['rate_rng'] = rate_rng\n",
    "            df['opt_pct'] = opt_pct\n",
    "            df['Trial'] = exp_name\n",
    "            df['Rep'] = np.arange(len(df))\n",
    "            resultsdf.append(df)\n",
    "\n",
    "resultsdf = pd.concat(resultsdf).reset_index(drop=True)\n",
    "resultsdf.to_csv('../data/trial_eco_linf.csv', index = False)"
   ]
  },
  {
   "cell_type": "code",
   "execution_count": null,
   "metadata": {},
   "outputs": [],
   "source": []
  }
 ],
 "metadata": {
  "kernelspec": {
   "display_name": "Python [conda env:GEOANN]",
   "language": "python",
   "name": "conda-env-GEOANN-py"
  },
  "language_info": {
   "codemirror_mode": {
    "name": "ipython",
    "version": 3
   },
   "file_extension": ".py",
   "mimetype": "text/x-python",
   "name": "python",
   "nbconvert_exporter": "python",
   "pygments_lexer": "ipython3",
   "version": "3.7.8"
  }
 },
 "nbformat": 4,
 "nbformat_minor": 4
}
