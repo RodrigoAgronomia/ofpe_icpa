{
 "cells": [
  {
   "cell_type": "code",
   "execution_count": 1,
   "metadata": {},
   "outputs": [],
   "source": [
    "import torch\n",
    "import numpy as np\n",
    "import torch.nn as nn\n",
    "import torch.nn.functional as F\n",
    "import matplotlib.pyplot as plt\n",
    "from tqdm.notebook import tqdm, trange\n",
    "device = torch.device('cuda')"
   ]
  },
  {
   "cell_type": "code",
   "execution_count": 2,
   "metadata": {},
   "outputs": [],
   "source": [
    "from sklearn.preprocessing import StandardScaler\n",
    "from mgwr.kernels import Kernel"
   ]
  },
  {
   "cell_type": "code",
   "execution_count": 3,
   "metadata": {},
   "outputs": [],
   "source": [
    "bw = 200\n",
    "cotton_price = 0.4\n",
    "nitrogen_cost = 1.0\n",
    "nitrogen_ratio = nitrogen_cost/cotton_price\n",
    "sq_rate = 100\n",
    "sq_yield = 4500\n",
    "rst_b2g = -0.02"
   ]
  },
  {
   "cell_type": "code",
   "execution_count": 4,
   "metadata": {},
   "outputs": [],
   "source": [
    "trial = np.load('../data/Trial_Design.npy')\n",
    "trial_names = np.load('../data/Trial_Design_names.npy', allow_pickle=True)\n",
    "trial_coords = np.load('../data/Trial_Design_coords.npy')\n",
    "trial_coords_idx = np.int0(np.floor(trial_coords/3))\n",
    "n = trial_coords.shape[0]\n",
    "\n",
    "rst_sim = np.load('../data/Trial_sim.npy')"
   ]
  },
  {
   "cell_type": "code",
   "execution_count": 5,
   "metadata": {},
   "outputs": [],
   "source": [
    "i = np.abs(trial_coords - [450, 300]).sum(1).argmin()\n",
    "wi = Kernel(i, trial_coords, bw, fixed=False, function='gaussian')\n",
    "wi = wi.kernel.reshape(rst_sim[0].shape)\n",
    "wic = wi[((wi > 0.008).sum(1) > 0)][:, ((wi > 0.008).sum(0) > 0)]\n",
    "\n",
    "W = torch.tensor(wic, device = device)[None,None]\n",
    "W = W/W.sum()\n",
    "W = W.repeat(3,1,1,1)"
   ]
  },
  {
   "cell_type": "code",
   "execution_count": 6,
   "metadata": {},
   "outputs": [],
   "source": [
    "b0_true = rst_sim[:100]\n",
    "b1_true = rst_sim[100:]\n",
    "\n",
    "rst_optr = sq_rate * (1 + 0.25 * b1_true) \n",
    "rst_optr = np.clip(rst_optr, 0, 200)\n",
    "\n",
    "rst_b1 = -2 * rst_b2g * rst_optr + nitrogen_ratio\n",
    "rst_b0 = sq_yield * (1 + 0.05 * b0_true)\n",
    "rst_b0 = rst_b0 - (rst_b1 * rst_optr + rst_b2g * rst_optr **2) \n",
    "\n",
    "trial_idx = [i for i, n in enumerate(trial_names) if not 'rep' in n]"
   ]
  },
  {
   "cell_type": "code",
   "execution_count": 10,
   "metadata": {},
   "outputs": [
    {
     "data": {
      "application/vnd.jupyter.widget-view+json": {
       "model_id": "d534667ca1224bbb9f3b33c30ee167c5",
       "version_major": 2,
       "version_minor": 0
      },
      "text/plain": [
       "HBox(children=(FloatProgress(value=0.0, max=30.0), HTML(value='')))"
      ]
     },
     "metadata": {},
     "output_type": "display_data"
    },
    {
     "data": {
      "application/vnd.jupyter.widget-view+json": {
       "model_id": "2791f6541981472eb6a7ec07c1f80af5",
       "version_major": 2,
       "version_minor": 0
      },
      "text/plain": [
       "HBox(children=(FloatProgress(value=0.0, description='size03_p001', style=ProgressStyle(description_width='init…"
      ]
     },
     "metadata": {},
     "output_type": "display_data"
    },
    {
     "name": "stdout",
     "output_type": "stream",
     "text": [
      "\n"
     ]
    },
    {
     "data": {
      "application/vnd.jupyter.widget-view+json": {
       "model_id": "371f629c4f34432099868fd3a772174b",
       "version_major": 2,
       "version_minor": 0
      },
      "text/plain": [
       "HBox(children=(FloatProgress(value=0.0, description='size03_p005', style=ProgressStyle(description_width='init…"
      ]
     },
     "metadata": {},
     "output_type": "display_data"
    },
    {
     "name": "stdout",
     "output_type": "stream",
     "text": [
      "\n"
     ]
    },
    {
     "data": {
      "application/vnd.jupyter.widget-view+json": {
       "model_id": "88bdb6498d4c4948baac954482aa9a9a",
       "version_major": 2,
       "version_minor": 0
      },
      "text/plain": [
       "HBox(children=(FloatProgress(value=0.0, description='size03_p010', style=ProgressStyle(description_width='init…"
      ]
     },
     "metadata": {},
     "output_type": "display_data"
    },
    {
     "name": "stdout",
     "output_type": "stream",
     "text": [
      "\n"
     ]
    },
    {
     "data": {
      "application/vnd.jupyter.widget-view+json": {
       "model_id": "c58713e4c570424b8f830d835b351aa9",
       "version_major": 2,
       "version_minor": 0
      },
      "text/plain": [
       "HBox(children=(FloatProgress(value=0.0, description='size03_p050', style=ProgressStyle(description_width='init…"
      ]
     },
     "metadata": {},
     "output_type": "display_data"
    },
    {
     "name": "stdout",
     "output_type": "stream",
     "text": [
      "\n"
     ]
    },
    {
     "data": {
      "application/vnd.jupyter.widget-view+json": {
       "model_id": "bffb4674ac1f4fd2bee13b5d2eb70987",
       "version_major": 2,
       "version_minor": 0
      },
      "text/plain": [
       "HBox(children=(FloatProgress(value=0.0, description='size03_p100', style=ProgressStyle(description_width='init…"
      ]
     },
     "metadata": {},
     "output_type": "display_data"
    },
    {
     "name": "stdout",
     "output_type": "stream",
     "text": [
      "\n"
     ]
    },
    {
     "data": {
      "application/vnd.jupyter.widget-view+json": {
       "model_id": "ef06753c35344f5b8a14dc518b661609",
       "version_major": 2,
       "version_minor": 0
      },
      "text/plain": [
       "HBox(children=(FloatProgress(value=0.0, description='size06_p001', style=ProgressStyle(description_width='init…"
      ]
     },
     "metadata": {},
     "output_type": "display_data"
    },
    {
     "name": "stdout",
     "output_type": "stream",
     "text": [
      "\n"
     ]
    },
    {
     "data": {
      "application/vnd.jupyter.widget-view+json": {
       "model_id": "a74d15f93977480286e0c2512ef8ca11",
       "version_major": 2,
       "version_minor": 0
      },
      "text/plain": [
       "HBox(children=(FloatProgress(value=0.0, description='size06_p005', style=ProgressStyle(description_width='init…"
      ]
     },
     "metadata": {},
     "output_type": "display_data"
    },
    {
     "name": "stdout",
     "output_type": "stream",
     "text": [
      "\n"
     ]
    },
    {
     "data": {
      "application/vnd.jupyter.widget-view+json": {
       "model_id": "1b2c6c8fcb424042980ad40dadb2b7d3",
       "version_major": 2,
       "version_minor": 0
      },
      "text/plain": [
       "HBox(children=(FloatProgress(value=0.0, description='size06_p010', style=ProgressStyle(description_width='init…"
      ]
     },
     "metadata": {},
     "output_type": "display_data"
    },
    {
     "name": "stdout",
     "output_type": "stream",
     "text": [
      "\n"
     ]
    },
    {
     "data": {
      "application/vnd.jupyter.widget-view+json": {
       "model_id": "3b4bdf0ec1f04c8eaea56834311cacfb",
       "version_major": 2,
       "version_minor": 0
      },
      "text/plain": [
       "HBox(children=(FloatProgress(value=0.0, description='size06_p050', style=ProgressStyle(description_width='init…"
      ]
     },
     "metadata": {},
     "output_type": "display_data"
    },
    {
     "name": "stdout",
     "output_type": "stream",
     "text": [
      "\n"
     ]
    },
    {
     "data": {
      "application/vnd.jupyter.widget-view+json": {
       "model_id": "1f8175be591e4951b797ec7c3af14479",
       "version_major": 2,
       "version_minor": 0
      },
      "text/plain": [
       "HBox(children=(FloatProgress(value=0.0, description='size06_p100', style=ProgressStyle(description_width='init…"
      ]
     },
     "metadata": {},
     "output_type": "display_data"
    },
    {
     "name": "stdout",
     "output_type": "stream",
     "text": [
      "\n"
     ]
    },
    {
     "data": {
      "application/vnd.jupyter.widget-view+json": {
       "model_id": "87e8221dfc1b4236b101c7a98f04abcd",
       "version_major": 2,
       "version_minor": 0
      },
      "text/plain": [
       "HBox(children=(FloatProgress(value=0.0, description='size15_p001', style=ProgressStyle(description_width='init…"
      ]
     },
     "metadata": {},
     "output_type": "display_data"
    },
    {
     "name": "stdout",
     "output_type": "stream",
     "text": [
      "\n"
     ]
    },
    {
     "data": {
      "application/vnd.jupyter.widget-view+json": {
       "model_id": "fca6ac75dbfb471f8982e5b0c6c0d62e",
       "version_major": 2,
       "version_minor": 0
      },
      "text/plain": [
       "HBox(children=(FloatProgress(value=0.0, description='size15_p005', style=ProgressStyle(description_width='init…"
      ]
     },
     "metadata": {},
     "output_type": "display_data"
    },
    {
     "name": "stdout",
     "output_type": "stream",
     "text": [
      "\n"
     ]
    },
    {
     "data": {
      "application/vnd.jupyter.widget-view+json": {
       "model_id": "341c743bed72401483b79cc67aff46b7",
       "version_major": 2,
       "version_minor": 0
      },
      "text/plain": [
       "HBox(children=(FloatProgress(value=0.0, description='size15_p010', style=ProgressStyle(description_width='init…"
      ]
     },
     "metadata": {},
     "output_type": "display_data"
    },
    {
     "name": "stdout",
     "output_type": "stream",
     "text": [
      "\n"
     ]
    },
    {
     "data": {
      "application/vnd.jupyter.widget-view+json": {
       "model_id": "2ad7a28c690b430e8912c6ea13d71557",
       "version_major": 2,
       "version_minor": 0
      },
      "text/plain": [
       "HBox(children=(FloatProgress(value=0.0, description='size15_p050', style=ProgressStyle(description_width='init…"
      ]
     },
     "metadata": {},
     "output_type": "display_data"
    },
    {
     "name": "stdout",
     "output_type": "stream",
     "text": [
      "\n"
     ]
    },
    {
     "data": {
      "application/vnd.jupyter.widget-view+json": {
       "model_id": "89027a6261d2458899c769376d0cccaa",
       "version_major": 2,
       "version_minor": 0
      },
      "text/plain": [
       "HBox(children=(FloatProgress(value=0.0, description='size15_p100', style=ProgressStyle(description_width='init…"
      ]
     },
     "metadata": {},
     "output_type": "display_data"
    },
    {
     "name": "stdout",
     "output_type": "stream",
     "text": [
      "\n"
     ]
    },
    {
     "data": {
      "application/vnd.jupyter.widget-view+json": {
       "model_id": "2bf45e49aab043fa8860dbc10aa8d136",
       "version_major": 2,
       "version_minor": 0
      },
      "text/plain": [
       "HBox(children=(FloatProgress(value=0.0, description='size30_p001', style=ProgressStyle(description_width='init…"
      ]
     },
     "metadata": {},
     "output_type": "display_data"
    },
    {
     "name": "stdout",
     "output_type": "stream",
     "text": [
      "\n"
     ]
    },
    {
     "data": {
      "application/vnd.jupyter.widget-view+json": {
       "model_id": "243097fa9f45485fb9450d0bd0238598",
       "version_major": 2,
       "version_minor": 0
      },
      "text/plain": [
       "HBox(children=(FloatProgress(value=0.0, description='size30_p005', style=ProgressStyle(description_width='init…"
      ]
     },
     "metadata": {},
     "output_type": "display_data"
    },
    {
     "name": "stdout",
     "output_type": "stream",
     "text": [
      "\n"
     ]
    },
    {
     "data": {
      "application/vnd.jupyter.widget-view+json": {
       "model_id": "09cfe0e9644a40d4bb8999ea299e509c",
       "version_major": 2,
       "version_minor": 0
      },
      "text/plain": [
       "HBox(children=(FloatProgress(value=0.0, description='size30_p010', style=ProgressStyle(description_width='init…"
      ]
     },
     "metadata": {},
     "output_type": "display_data"
    },
    {
     "name": "stdout",
     "output_type": "stream",
     "text": [
      "\n"
     ]
    },
    {
     "data": {
      "application/vnd.jupyter.widget-view+json": {
       "model_id": "c495fd467a0b4c18a795fa0ca80f14f1",
       "version_major": 2,
       "version_minor": 0
      },
      "text/plain": [
       "HBox(children=(FloatProgress(value=0.0, description='size30_p050', style=ProgressStyle(description_width='init…"
      ]
     },
     "metadata": {},
     "output_type": "display_data"
    },
    {
     "name": "stdout",
     "output_type": "stream",
     "text": [
      "\n"
     ]
    },
    {
     "data": {
      "application/vnd.jupyter.widget-view+json": {
       "model_id": "122e672bd3a74c6a8de314d72c770aaf",
       "version_major": 2,
       "version_minor": 0
      },
      "text/plain": [
       "HBox(children=(FloatProgress(value=0.0, description='size30_p100', style=ProgressStyle(description_width='init…"
      ]
     },
     "metadata": {},
     "output_type": "display_data"
    },
    {
     "ename": "KeyboardInterrupt",
     "evalue": "",
     "output_type": "error",
     "traceback": [
      "\u001b[0;31m---------------------------------------------------------------------------\u001b[0m",
      "\u001b[0;31mKeyboardInterrupt\u001b[0m                         Traceback (most recent call last)",
      "\u001b[0;32m<ipython-input-10-8bdcbecefbf5>\u001b[0m in \u001b[0;36m<module>\u001b[0;34m\u001b[0m\n\u001b[1;32m     58\u001b[0m \u001b[0;34m\u001b[0m\u001b[0m\n\u001b[1;32m     59\u001b[0m         \u001b[0;31m# Also minimize the distance between the raw parameters and their spatially smothed version:\u001b[0m\u001b[0;34m\u001b[0m\u001b[0;34m\u001b[0m\u001b[0;34m\u001b[0m\u001b[0m\n\u001b[0;32m---> 60\u001b[0;31m         \u001b[0mloss\u001b[0m \u001b[0;34m+=\u001b[0m \u001b[0mcriterion\u001b[0m\u001b[0;34m(\u001b[0m\u001b[0mcm\u001b[0m\u001b[0;34m,\u001b[0m \u001b[0mc\u001b[0m\u001b[0;34m)\u001b[0m\u001b[0;34m\u001b[0m\u001b[0;34m\u001b[0m\u001b[0m\n\u001b[0m\u001b[1;32m     61\u001b[0m \u001b[0;34m\u001b[0m\u001b[0m\n\u001b[1;32m     62\u001b[0m         \u001b[0;31m# Calc the gradients:\u001b[0m\u001b[0;34m\u001b[0m\u001b[0;34m\u001b[0m\u001b[0;34m\u001b[0m\u001b[0m\n",
      "\u001b[0;32m/opt/anaconda3/envs/GEOANN/lib/python3.7/site-packages/torch/nn/modules/module.py\u001b[0m in \u001b[0;36m__call__\u001b[0;34m(self, *input, **kwargs)\u001b[0m\n\u001b[1;32m    530\u001b[0m             \u001b[0mresult\u001b[0m \u001b[0;34m=\u001b[0m \u001b[0mself\u001b[0m\u001b[0;34m.\u001b[0m\u001b[0m_slow_forward\u001b[0m\u001b[0;34m(\u001b[0m\u001b[0;34m*\u001b[0m\u001b[0minput\u001b[0m\u001b[0;34m,\u001b[0m \u001b[0;34m**\u001b[0m\u001b[0mkwargs\u001b[0m\u001b[0;34m)\u001b[0m\u001b[0;34m\u001b[0m\u001b[0;34m\u001b[0m\u001b[0m\n\u001b[1;32m    531\u001b[0m         \u001b[0;32melse\u001b[0m\u001b[0;34m:\u001b[0m\u001b[0;34m\u001b[0m\u001b[0;34m\u001b[0m\u001b[0m\n\u001b[0;32m--> 532\u001b[0;31m             \u001b[0mresult\u001b[0m \u001b[0;34m=\u001b[0m \u001b[0mself\u001b[0m\u001b[0;34m.\u001b[0m\u001b[0mforward\u001b[0m\u001b[0;34m(\u001b[0m\u001b[0;34m*\u001b[0m\u001b[0minput\u001b[0m\u001b[0;34m,\u001b[0m \u001b[0;34m**\u001b[0m\u001b[0mkwargs\u001b[0m\u001b[0;34m)\u001b[0m\u001b[0;34m\u001b[0m\u001b[0;34m\u001b[0m\u001b[0m\n\u001b[0m\u001b[1;32m    533\u001b[0m         \u001b[0;32mfor\u001b[0m \u001b[0mhook\u001b[0m \u001b[0;32min\u001b[0m \u001b[0mself\u001b[0m\u001b[0;34m.\u001b[0m\u001b[0m_forward_hooks\u001b[0m\u001b[0;34m.\u001b[0m\u001b[0mvalues\u001b[0m\u001b[0;34m(\u001b[0m\u001b[0;34m)\u001b[0m\u001b[0;34m:\u001b[0m\u001b[0;34m\u001b[0m\u001b[0;34m\u001b[0m\u001b[0m\n\u001b[1;32m    534\u001b[0m             \u001b[0mhook_result\u001b[0m \u001b[0;34m=\u001b[0m \u001b[0mhook\u001b[0m\u001b[0;34m(\u001b[0m\u001b[0mself\u001b[0m\u001b[0;34m,\u001b[0m \u001b[0minput\u001b[0m\u001b[0;34m,\u001b[0m \u001b[0mresult\u001b[0m\u001b[0;34m)\u001b[0m\u001b[0;34m\u001b[0m\u001b[0;34m\u001b[0m\u001b[0m\n",
      "\u001b[0;32m/opt/anaconda3/envs/GEOANN/lib/python3.7/site-packages/torch/nn/modules/loss.py\u001b[0m in \u001b[0;36mforward\u001b[0;34m(self, input, target)\u001b[0m\n\u001b[1;32m    429\u001b[0m \u001b[0;34m\u001b[0m\u001b[0m\n\u001b[1;32m    430\u001b[0m     \u001b[0;32mdef\u001b[0m \u001b[0mforward\u001b[0m\u001b[0;34m(\u001b[0m\u001b[0mself\u001b[0m\u001b[0;34m,\u001b[0m \u001b[0minput\u001b[0m\u001b[0;34m,\u001b[0m \u001b[0mtarget\u001b[0m\u001b[0;34m)\u001b[0m\u001b[0;34m:\u001b[0m\u001b[0;34m\u001b[0m\u001b[0;34m\u001b[0m\u001b[0m\n\u001b[0;32m--> 431\u001b[0;31m         \u001b[0;32mreturn\u001b[0m \u001b[0mF\u001b[0m\u001b[0;34m.\u001b[0m\u001b[0mmse_loss\u001b[0m\u001b[0;34m(\u001b[0m\u001b[0minput\u001b[0m\u001b[0;34m,\u001b[0m \u001b[0mtarget\u001b[0m\u001b[0;34m,\u001b[0m \u001b[0mreduction\u001b[0m\u001b[0;34m=\u001b[0m\u001b[0mself\u001b[0m\u001b[0;34m.\u001b[0m\u001b[0mreduction\u001b[0m\u001b[0;34m)\u001b[0m\u001b[0;34m\u001b[0m\u001b[0;34m\u001b[0m\u001b[0m\n\u001b[0m\u001b[1;32m    432\u001b[0m \u001b[0;34m\u001b[0m\u001b[0m\n\u001b[1;32m    433\u001b[0m \u001b[0;34m\u001b[0m\u001b[0m\n",
      "\u001b[0;32m/opt/anaconda3/envs/GEOANN/lib/python3.7/site-packages/torch/nn/functional.py\u001b[0m in \u001b[0;36mmse_loss\u001b[0;34m(input, target, size_average, reduce, reduction)\u001b[0m\n\u001b[1;32m   2211\u001b[0m         \u001b[0mret\u001b[0m \u001b[0;34m=\u001b[0m \u001b[0;34m(\u001b[0m\u001b[0minput\u001b[0m \u001b[0;34m-\u001b[0m \u001b[0mtarget\u001b[0m\u001b[0;34m)\u001b[0m \u001b[0;34m**\u001b[0m \u001b[0;36m2\u001b[0m\u001b[0;34m\u001b[0m\u001b[0;34m\u001b[0m\u001b[0m\n\u001b[1;32m   2212\u001b[0m         \u001b[0;32mif\u001b[0m \u001b[0mreduction\u001b[0m \u001b[0;34m!=\u001b[0m \u001b[0;34m'none'\u001b[0m\u001b[0;34m:\u001b[0m\u001b[0;34m\u001b[0m\u001b[0;34m\u001b[0m\u001b[0m\n\u001b[0;32m-> 2213\u001b[0;31m             \u001b[0mret\u001b[0m \u001b[0;34m=\u001b[0m \u001b[0mtorch\u001b[0m\u001b[0;34m.\u001b[0m\u001b[0mmean\u001b[0m\u001b[0;34m(\u001b[0m\u001b[0mret\u001b[0m\u001b[0;34m)\u001b[0m \u001b[0;32mif\u001b[0m \u001b[0mreduction\u001b[0m \u001b[0;34m==\u001b[0m \u001b[0;34m'mean'\u001b[0m \u001b[0;32melse\u001b[0m \u001b[0mtorch\u001b[0m\u001b[0;34m.\u001b[0m\u001b[0msum\u001b[0m\u001b[0;34m(\u001b[0m\u001b[0mret\u001b[0m\u001b[0;34m)\u001b[0m\u001b[0;34m\u001b[0m\u001b[0;34m\u001b[0m\u001b[0m\n\u001b[0m\u001b[1;32m   2214\u001b[0m     \u001b[0;32melse\u001b[0m\u001b[0;34m:\u001b[0m\u001b[0;34m\u001b[0m\u001b[0;34m\u001b[0m\u001b[0m\n\u001b[1;32m   2215\u001b[0m         \u001b[0mexpanded_input\u001b[0m\u001b[0;34m,\u001b[0m \u001b[0mexpanded_target\u001b[0m \u001b[0;34m=\u001b[0m \u001b[0mtorch\u001b[0m\u001b[0;34m.\u001b[0m\u001b[0mbroadcast_tensors\u001b[0m\u001b[0;34m(\u001b[0m\u001b[0minput\u001b[0m\u001b[0;34m,\u001b[0m \u001b[0mtarget\u001b[0m\u001b[0;34m)\u001b[0m\u001b[0;34m\u001b[0m\u001b[0;34m\u001b[0m\u001b[0m\n",
      "\u001b[0;31mKeyboardInterrupt\u001b[0m: "
     ]
    }
   ],
   "source": [
    "for idx in tqdm(trial_idx):\n",
    "    exp_name = trial_names[idx]\n",
    "\n",
    "    trial_rst = np.nan_to_num(trial[idx])\n",
    "    trial_msk = ~np.isnan(trial[idx])\n",
    "\n",
    "    inp_rate = sq_rate + 12.5 * trial_rst\n",
    "    rst_yield_obs =  rst_b0 + rst_b1 * inp_rate + rst_b2g * inp_rate**2\n",
    "\n",
    "    inp_rate = inp_rate[trial_msk.sum(1) > 0][:,trial_msk.sum(0) > 0]\n",
    "    rst_yield_obs = rst_yield_obs[:,trial_msk.sum(1) > 0][:,:,trial_msk.sum(0) > 0]\n",
    "\n",
    "    y = rst_yield_obs.reshape(-1,1)\n",
    "    X = inp_rate.reshape(-1,1)\n",
    "\n",
    "    y_std = StandardScaler().fit(y)\n",
    "    y = y_std.transform(y).reshape(rst_yield_obs.shape)\n",
    "\n",
    "    X_std = StandardScaler().fit(X)\n",
    "    X = X_std.transform(X).reshape(inp_rate.shape)\n",
    "\n",
    "    p = np.array([0,1,2])[:,None,None]\n",
    "    X = X[None,None] ** (np.ones((3, *X.shape)) * p)\n",
    "\n",
    "    c = y[:,None].repeat(3,1)\n",
    "    c[:,1:] = 0\n",
    "    c = torch.tensor(c, device = device, requires_grad = True)\n",
    "\n",
    "    cw = torch.ones_like(c)[0,0,None,None]\n",
    "    cw = F.conv2d(cw, W[[0]], stride = 1, padding = 25)\n",
    "\n",
    "    X = torch.tensor(X, device = device)\n",
    "    y = torch.tensor(y, device = device)\n",
    "\n",
    "    criterion = nn.MSELoss()\n",
    "    learning_rate = 0.1\n",
    "    optimizer = torch.optim.Adam((c,), learning_rate)\n",
    "\n",
    "    for i in trange(100, desc = exp_name):\n",
    "\n",
    "        # Clean the gradients\n",
    "        optimizer.zero_grad()\n",
    "\n",
    "        # Enforce spatial correlation:\n",
    "        cm = F.conv2d(c, W, stride = 1, padding = 25, groups = 3)\n",
    "\n",
    "        # Correct border effects:\n",
    "        cm = cm/cw\n",
    "\n",
    "        # Enforce fixed (global) paramter for the second order effect:\n",
    "        cm[:,2] = cm[:,2].mean()\n",
    "\n",
    "        # Predict the yield based on the spatial parameters and the rates applied:\n",
    "        pred = (X * cm).sum(1)\n",
    "\n",
    "        # Calc the loss using the MSE between actual and predicted yield:\n",
    "        loss = criterion(pred, y)\n",
    "\n",
    "        # Also minimize the distance between the raw parameters and their spatially smothed version:\n",
    "        loss += criterion(cm, c)\n",
    "\n",
    "        # Calc the gradients:\n",
    "        loss.backward()\n",
    "\n",
    "        # Update model parameters:\n",
    "        optimizer.step()\n",
    "\n",
    "\n",
    "    X_testr = torch.linspace(0, 200, 201, device = device)\n",
    "    X_cost = X_testr[:,None,None] * nitrogen_cost\n",
    "    X_test = (X_testr - X_std.mean_[0]) /  X_std.scale_[0]\n",
    "    p = torch.tensor([[0,1,2]], device = device)[:,:,None,None]\n",
    "    X_test = X_test[:,None,None,None] ** (torch.ones_like(c)[0][None] * p)\n",
    "\n",
    "    best_idx = []\n",
    "    for i in range(len(c)):\n",
    "        y_test = (X_test * cm[i]).sum(1)\n",
    "        y_test = y_std.mean_[0] + (y_std.scale_[0] * y_test)\n",
    "        y_net_pred = y_test * cotton_price - X_cost\n",
    "        best_idx.append(y_net_pred.argmax(0))\n",
    "\n",
    "    best_idx = torch.stack(best_idx)\n",
    "    rst_optr_pred_msk = X_testr[best_idx].cpu().numpy()\n",
    "    if trial_msk.mean() < 0.2:\n",
    "        rst_optr_pred = sq_rate * np.ones_like(rst_optr)\n",
    "        rst_optr_pred[:,trial_msk] = rst_optr_pred_msk.reshape(rst_optr[:,trial_msk].shape)\n",
    "    else:\n",
    "        rst_optr_pred = rst_optr_pred_msk\n",
    "\n",
    "    np.save(f'../data/{exp_name}_adapt.npy', rst_optr_pred.astype('uint8'))"
   ]
  },
  {
   "cell_type": "code",
   "execution_count": null,
   "metadata": {},
   "outputs": [],
   "source": [
    "# idx = 25\n",
    "# exp_name = trial_names[idx]\n",
    "\n",
    "# trial_rst = np.nan_to_num(trial[idx])\n",
    "# trial_msk = ~np.isnan(trial[idx])\n",
    "\n",
    "# inp_rate = sq_rate + 12.5 * trial_rst\n",
    "# rst_yield_obs =  rst_b0 + rst_b1 * inp_rate + rst_b2g * inp_rate**2\n",
    "\n",
    "# inp_rate = inp_rate[trial_msk.sum(1) > 0][:,trial_msk.sum(0) > 0]\n",
    "# rst_yield_obs = rst_yield_obs[:,trial_msk.sum(1) > 0][:,:,trial_msk.sum(0) > 0]\n",
    "\n",
    "# y = rst_yield_obs.reshape(-1,1)\n",
    "# X = inp_rate.reshape(-1,1)\n",
    "\n",
    "# y_std = StandardScaler().fit(y)\n",
    "# y = y_std.transform(y).reshape(rst_yield_obs.shape)\n",
    "\n",
    "# X_std = StandardScaler().fit(X)\n",
    "# X = X_std.transform(X).reshape(inp_rate.shape)\n",
    "\n",
    "# p = np.array([0,1,2])[:,None,None]\n",
    "# X = X[None,None] ** (np.ones((3, *X.shape)) * p)\n",
    "\n",
    "# c = y[:,None].repeat(3,1)\n",
    "# c[:,1:] = 0\n",
    "# c = torch.tensor(c, device = device, requires_grad = True)\n",
    "\n",
    "# cw = torch.ones_like(c)[0,0,None,None]\n",
    "# cw = F.conv2d(cw, W[[0]], stride = 1, padding = 25)\n",
    "\n",
    "# X = torch.tensor(X, device = device)\n",
    "# y = torch.tensor(y, device = device)\n",
    "\n",
    "# criterion = nn.MSELoss()\n",
    "# learning_rate = 0.1\n",
    "# optimizer = torch.optim.Adam((c,), learning_rate)\n",
    "\n",
    "# for i in trange(100, desc = exp_name):\n",
    "\n",
    "#     # Clean the gradients\n",
    "#     optimizer.zero_grad()\n",
    "\n",
    "#     # Enforce spatial correlation:\n",
    "#     cm = F.conv2d(c, W, stride = 1, padding = 25, groups = 3)\n",
    "\n",
    "#     # Correct border effects:\n",
    "#     cm = cm/cw\n",
    "\n",
    "#     # Enforce fixed (global) paramter for the second order effect:\n",
    "#     cm[:,2] = cm[:,2].mean()\n",
    "\n",
    "#     # Predict the yield based on the spatial parameters and the rates applied:\n",
    "#     pred = (X * cm).sum(1)\n",
    "\n",
    "#     # Calc the loss using the MSE between actual and predicted yield:\n",
    "#     loss = criterion(pred, y)\n",
    "\n",
    "#     # Also minimize the distance between the raw parameters and their spatially smothed version:\n",
    "#     loss += criterion(cm, c)\n",
    "\n",
    "#     # Calc the gradients:\n",
    "#     loss.backward()\n",
    "\n",
    "#     # Update model parameters:\n",
    "#     optimizer.step()\n",
    "\n",
    "\n",
    "# X_testr = torch.linspace(0, 200, 200, device = device)\n",
    "# X_cost = X_testr[:,None,None] * nitrogen_cost\n",
    "# X_test = (X_testr - X_std.mean_[0]) /  X_std.scale_[0]\n",
    "# p = torch.tensor([[0,1,2]], device = device)[:,:,None,None]\n",
    "# X_test = X_test[:,None,None,None] ** (torch.ones_like(c)[0][None] * p)\n",
    "\n",
    "# best_idx = []\n",
    "# for i in range(len(c)):\n",
    "#     y_test = (X_test * cm[i]).sum(1)\n",
    "#     y_test = y_std.mean_[0] + (y_std.scale_[0] * y_test)\n",
    "#     y_net_pred = y_test * cotton_price - X_cost\n",
    "#     best_idx.append(y_net_pred.argmax(0))\n",
    "\n",
    "# best_idx = torch.stack(best_idx)\n",
    "# rst_optr_pred_msk = X_testr[best_idx].cpu().numpy()\n",
    "# rst_optr_pred = np.zeros_like(rst_optr)\n",
    "# rst_optr_pred[:,trial_msk] = rst_optr_pred_msk.reshape(rst_optr[:,trial_msk].shape)\n",
    "\n",
    "# np.save(f'../data/{exp_name}.npy', rst_optr_pred)"
   ]
  },
  {
   "cell_type": "code",
   "execution_count": null,
   "metadata": {},
   "outputs": [],
   "source": [
    "plt.imshow(rst_optr[0])"
   ]
  },
  {
   "cell_type": "code",
   "execution_count": null,
   "metadata": {},
   "outputs": [],
   "source": [
    "plt.imshow(rst_optr_pred[0])"
   ]
  },
  {
   "cell_type": "code",
   "execution_count": null,
   "metadata": {},
   "outputs": [],
   "source": [
    "plt.imshow(trial_rst)"
   ]
  },
  {
   "cell_type": "code",
   "execution_count": null,
   "metadata": {},
   "outputs": [],
   "source": []
  }
 ],
 "metadata": {
  "kernelspec": {
   "display_name": "Python [conda env:GEOANN]",
   "language": "python",
   "name": "conda-env-GEOANN-py"
  },
  "language_info": {
   "codemirror_mode": {
    "name": "ipython",
    "version": 3
   },
   "file_extension": ".py",
   "mimetype": "text/x-python",
   "name": "python",
   "nbconvert_exporter": "python",
   "pygments_lexer": "ipython3",
   "version": "3.7.6"
  }
 },
 "nbformat": 4,
 "nbformat_minor": 4
}
