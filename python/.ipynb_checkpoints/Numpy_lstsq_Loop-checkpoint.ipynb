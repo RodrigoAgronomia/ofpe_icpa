{
 "cells": [
  {
   "cell_type": "code",
   "execution_count": 1,
   "metadata": {},
   "outputs": [],
   "source": [
    "import numpy as np\n",
    "from tqdm.notebook import tqdm, trange"
   ]
  },
  {
   "cell_type": "code",
   "execution_count": 2,
   "metadata": {},
   "outputs": [],
   "source": [
    "cotton_price = 0.4\n",
    "nitrogen_cost = 1.0\n",
    "nitrogen_ratio = nitrogen_cost/cotton_price\n",
    "sq_rate = 100\n",
    "sq_yield = 4500\n",
    "rst_b2g = -0.02\n",
    "opt_pcts = [50, 75, 100]\n",
    "rate_rngs = [25, 50, 100]"
   ]
  },
  {
   "cell_type": "code",
   "execution_count": 3,
   "metadata": {},
   "outputs": [],
   "source": [
    "trial = np.load('../data/Trial_Design.npy')\n",
    "trial_names = np.load('../data/Trial_Design_names.npy', allow_pickle=True)\n",
    "trial_idx = [i for i, n in enumerate(trial_names) if not 'rep' in n]\n",
    "trial_coords = np.load('../data/Trial_Design_coords.npy')\n",
    "trial_coords_idx = np.int0(np.floor(trial_coords/3))\n",
    "n = trial_coords.shape[0]\n",
    "\n",
    "meig = np.load('../data/Trial_meig.npy').transpose([-1, -2, -3])\n",
    "rst_sim = np.load('../data/Trial_sim.npy')\n",
    "b0_true = rst_sim[:100]\n",
    "b1_true = rst_sim[100:]"
   ]
  },
  {
   "cell_type": "code",
   "execution_count": 4,
   "metadata": {},
   "outputs": [
    {
     "data": {
      "application/vnd.jupyter.widget-view+json": {
       "model_id": "ec59b1154dca45b19f2a183dbef5f338",
       "version_major": 2,
       "version_minor": 0
      },
      "text/plain": [
       "HBox(children=(FloatProgress(value=0.0, max=30.0), HTML(value='')))"
      ]
     },
     "metadata": {},
     "output_type": "display_data"
    },
    {
     "name": "stdout",
     "output_type": "stream",
     "text": [
      "\n"
     ]
    },
    {
     "data": {
      "application/vnd.jupyter.widget-view+json": {
       "model_id": "1401a7427b27454cb3032f12202b4f38",
       "version_major": 2,
       "version_minor": 0
      },
      "text/plain": [
       "HBox(children=(FloatProgress(value=0.0, max=30.0), HTML(value='')))"
      ]
     },
     "metadata": {},
     "output_type": "display_data"
    },
    {
     "name": "stdout",
     "output_type": "stream",
     "text": [
      "\n"
     ]
    },
    {
     "data": {
      "application/vnd.jupyter.widget-view+json": {
       "model_id": "c6165104a2dc4e63b28b9e00578e8af5",
       "version_major": 2,
       "version_minor": 0
      },
      "text/plain": [
       "HBox(children=(FloatProgress(value=0.0, max=30.0), HTML(value='')))"
      ]
     },
     "metadata": {},
     "output_type": "display_data"
    },
    {
     "name": "stdout",
     "output_type": "stream",
     "text": [
      "\n"
     ]
    }
   ],
   "source": [
    "for opt_pct in opt_pcts:    \n",
    "    rst_optr = sq_rate * (opt_pct/100 + (0.25 * b1_true))   \n",
    "    rst_optr = np.clip(rst_optr, 0, 200)\n",
    "\n",
    "    rst_b1 = -2 * rst_b2g * rst_optr + nitrogen_ratio\n",
    "    rst_b0 = sq_yield * (1 + 0.05 * b0_true)\n",
    "    rst_b0 = rst_b0 - (rst_b1 * rst_optr + rst_b2g * rst_optr **2) \n",
    "\n",
    "\n",
    "    for idx in tqdm(trial_idx):\n",
    "        exp_name = trial_names[idx]\n",
    "        trial_rst = np.nan_to_num(trial[idx])/2\n",
    "\n",
    "        for rate_rng in rate_rngs:\n",
    "\n",
    "            inp_rate = sq_rate + rate_rng * trial_rst\n",
    "            rst_yield_obs =  rst_b0 + rst_b1 * inp_rate\n",
    "            \n",
    "            X = inp_rate.reshape(1, -1)\n",
    "            Xc = meig.reshape(len(meig), -1)\n",
    "            Xi = (Xc * X)\n",
    "            Xf = np.concatenate([np.ones_like(X), X, Xc, Xi]).T\n",
    "            y = rst_yield_obs.reshape(len(rst_yield_obs), -1).T\n",
    "            xpred, _, _, _ = np.linalg.lstsq(Xf, y, rcond=None)\n",
    "\n",
    "            b0_pred = (xpred[[0]] + np.dot(Xc.T, xpred[2:102])).T.reshape(rst_b0.shape)\n",
    "            b1_pred = (xpred[[1]] + np.dot(Xc.T, xpred[102:])).T.reshape(rst_b1.shape)\n",
    "            beta_pred = np.stack([b0_pred, b1_pred]).astype('float32')\n",
    "\n",
    "            np.save(f'../data/{exp_name}_{opt_pct}_{rate_rng}.npy', beta_pred)\n"
   ]
  },
  {
   "cell_type": "code",
   "execution_count": null,
   "metadata": {},
   "outputs": [],
   "source": []
  }
 ],
 "metadata": {
  "kernelspec": {
   "display_name": "Python [conda env:GEOANN]",
   "language": "python",
   "name": "conda-env-GEOANN-py"
  },
  "language_info": {
   "codemirror_mode": {
    "name": "ipython",
    "version": 3
   },
   "file_extension": ".py",
   "mimetype": "text/x-python",
   "name": "python",
   "nbconvert_exporter": "python",
   "pygments_lexer": "ipython3",
   "version": "3.7.8"
  }
 },
 "nbformat": 4,
 "nbformat_minor": 4
}
